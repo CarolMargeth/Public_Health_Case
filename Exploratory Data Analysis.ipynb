{
 "cells": [
  {
   "cell_type": "markdown",
   "id": "6794b277",
   "metadata": {},
   "source": [
    "# Stats and Public Health Part 1\n",
    "**Carol Calderon\n",
    "February 2023**"
   ]
  },
  {
   "cell_type": "markdown",
   "id": "f3de7c0f",
   "metadata": {},
   "source": [
    "## Introduction"
   ]
  },
  {
   "cell_type": "markdown",
   "id": "8e28d6ea",
   "metadata": {},
   "source": [
    "West Nile Virus (WNV) is a viral illness largely spread by mosquitoes. The disease is transmitted to a person when an infected mosquito bites them.\n",
    "\n",
    "The city of Chicago, Illinois has been keeping track of mosquito populations and WNV prevalence using a series of traps that they place around the city. They are then able to study the captured specimens and monitor the state of WNV spread in the city.\n",
    "\n",
    "The dataset contains mosquito tracking data from 2008 to 2019.\n",
    "\n",
    "**Main objective**\n",
    "\n",
    "Basic Exploration Data Analysis and data wrangling."
   ]
  },
  {
   "cell_type": "markdown",
   "id": "86a00e2e",
   "metadata": {},
   "source": [
    "**Data dictionary**"
   ]
  },
  {
   "cell_type": "markdown",
   "id": "33d891e7",
   "metadata": {},
   "source": [
    "| COLUMN NAME | DESCRIPTION | NOTE       |\n",
    "| ----------- | ----------- |----------- |\n",
    "|Year:        |Year that the WNV test is performed| |\n",
    "|Week:        |Week that the WNV test is performed| |\n",
    "|Addres Block:| Address of the location of trap| |\n",
    "|Block:       |Block number of address\t|\t|\t\n",
    "|Trap:        |Id of the trap|\tSome traps are \"satellite traps\". These are traps that are set up near (usually within 6 blocks) an established trap to enhance surveillance efforts. Satellite traps are post fixed with letters. For example, T220A is a satellite trap to T220.|\n",
    "|Trap type:   |Type of trap| |\n",
    "|Date:        |Date and time that the WNV test is performed| Please note that not all the locations are tested at all times. Also, records exist only when a particular species of mosquitoes is found at a certain trap at a certain time.|\n",
    "|Mosquito number: |Number of mosquitoes caught in this trap |*These test results are organized in such a way that when the number of mosquitoes exceed 50, they are split into another record (another row in the dataset), such that the number of mosquitoes are capped at 50.|\n",
    "|WNV Present: |West Nile Virus was present in these mosquitos\tstring\t\t\n",
    "|Species: |Mosquito species| \n",
    "|Lat: |Latitude of trap|\n",
    "|Lon: |Longitude of trap|"
   ]
  },
  {
   "cell_type": "markdown",
   "id": "5b32fdfd",
   "metadata": {},
   "source": [
    "## Exploration data analysis steps:\n",
    "\n",
    "This notebook follow the plan below:\n",
    "\n",
    "1. [Import libraries and load the data](#1)\n",
    "2. [Data Wrangling: Cleaning and processing for analysis](#2)\n",
    "3. [Basic exploratory data analysis](#3)\n",
    "4. [Advance exploratory data analysis](#4)\n",
    "5. [Insights](#5)"
   ]
  },
  {
   "cell_type": "markdown",
   "id": "a59147f0",
   "metadata": {},
   "source": [
    "## 1. Import libraries and load the data. <a class=\"anchor\" id=\"1\"></a>"
   ]
  },
  {
   "cell_type": "code",
   "execution_count": 2,
   "id": "4eff06f4",
   "metadata": {},
   "outputs": [],
   "source": [
    "# Import the requiered libraries\n",
    "\n",
    "import numpy as np\n",
    "import pandas as pd\n",
    "import os as os\n",
    "import matplotlib.pyplot as plt\n",
    "import seaborn as sns"
   ]
  },
  {
   "cell_type": "code",
   "execution_count": 4,
   "id": "ac6e77f6",
   "metadata": {},
   "outputs": [],
   "source": [
    "#Load the initial dataset\n",
    "\n",
    "raw_data=pd.read_csv('mosquito_data.csv')"
   ]
  },
  {
   "cell_type": "code",
   "execution_count": 5,
   "id": "40c71fbd",
   "metadata": {},
   "outputs": [
    {
     "data": {
      "text/html": [
       "<div>\n",
       "<style scoped>\n",
       "    .dataframe tbody tr th:only-of-type {\n",
       "        vertical-align: middle;\n",
       "    }\n",
       "\n",
       "    .dataframe tbody tr th {\n",
       "        vertical-align: top;\n",
       "    }\n",
       "\n",
       "    .dataframe thead th {\n",
       "        text-align: right;\n",
       "    }\n",
       "</style>\n",
       "<table border=\"1\" class=\"dataframe\">\n",
       "  <thead>\n",
       "    <tr style=\"text-align: right;\">\n",
       "      <th></th>\n",
       "      <th>Year</th>\n",
       "      <th>Week</th>\n",
       "      <th>Address Block</th>\n",
       "      <th>Block</th>\n",
       "      <th>Trap</th>\n",
       "      <th>Trap type</th>\n",
       "      <th>Date</th>\n",
       "      <th>Mosquito number</th>\n",
       "      <th>Mosquito ID</th>\n",
       "      <th>WNV Present</th>\n",
       "      <th>Species</th>\n",
       "      <th>Lat</th>\n",
       "      <th>Lon</th>\n",
       "    </tr>\n",
       "  </thead>\n",
       "  <tbody>\n",
       "    <tr>\n",
       "      <th>0</th>\n",
       "      <td>2019</td>\n",
       "      <td>39</td>\n",
       "      <td>100XX W OHARE AIRPORT</td>\n",
       "      <td>100</td>\n",
       "      <td>T910</td>\n",
       "      <td>GRAVID</td>\n",
       "      <td>2019-09-26 00:09:00</td>\n",
       "      <td>2</td>\n",
       "      <td>Res</td>\n",
       "      <td>negative</td>\n",
       "      <td>CULEX RESTUANS</td>\n",
       "      <td>NaN</td>\n",
       "      <td>NaN</td>\n",
       "    </tr>\n",
       "    <tr>\n",
       "      <th>1</th>\n",
       "      <td>2019</td>\n",
       "      <td>39</td>\n",
       "      <td>52XX S KOLMAR AVE</td>\n",
       "      <td>52</td>\n",
       "      <td>T114</td>\n",
       "      <td>GRAVID</td>\n",
       "      <td>2019-09-26 00:09:00</td>\n",
       "      <td>1</td>\n",
       "      <td>Res</td>\n",
       "      <td>negative</td>\n",
       "      <td>CULEX RESTUANS</td>\n",
       "      <td>41.798211</td>\n",
       "      <td>-87.736925</td>\n",
       "    </tr>\n",
       "    <tr>\n",
       "      <th>2</th>\n",
       "      <td>2019</td>\n",
       "      <td>39</td>\n",
       "      <td>58XX N WESTERN AVE</td>\n",
       "      <td>58</td>\n",
       "      <td>T028</td>\n",
       "      <td>GRAVID</td>\n",
       "      <td>2019-09-26 00:09:00</td>\n",
       "      <td>2</td>\n",
       "      <td>Res</td>\n",
       "      <td>negative</td>\n",
       "      <td>CULEX RESTUANS</td>\n",
       "      <td>41.987245</td>\n",
       "      <td>-87.689417</td>\n",
       "    </tr>\n",
       "    <tr>\n",
       "      <th>3</th>\n",
       "      <td>2019</td>\n",
       "      <td>39</td>\n",
       "      <td>39XX N SPRINGFIELD AVE</td>\n",
       "      <td>39</td>\n",
       "      <td>T228</td>\n",
       "      <td>GRAVID</td>\n",
       "      <td>2019-09-26 00:09:00</td>\n",
       "      <td>1</td>\n",
       "      <td>Res</td>\n",
       "      <td>negative</td>\n",
       "      <td>CULEX RESTUANS</td>\n",
       "      <td>41.953664</td>\n",
       "      <td>-87.724987</td>\n",
       "    </tr>\n",
       "    <tr>\n",
       "      <th>4</th>\n",
       "      <td>2019</td>\n",
       "      <td>39</td>\n",
       "      <td>131XX S BRANDON AVE</td>\n",
       "      <td>131</td>\n",
       "      <td>T209</td>\n",
       "      <td>GRAVID</td>\n",
       "      <td>2019-09-26 00:09:00</td>\n",
       "      <td>9</td>\n",
       "      <td>Res</td>\n",
       "      <td>negative</td>\n",
       "      <td>CULEX RESTUANS</td>\n",
       "      <td>41.657069</td>\n",
       "      <td>-87.546049</td>\n",
       "    </tr>\n",
       "  </tbody>\n",
       "</table>\n",
       "</div>"
      ],
      "text/plain": [
       "   Year  Week           Address Block  Block  Trap Trap type  \\\n",
       "0  2019    39   100XX W OHARE AIRPORT    100  T910    GRAVID   \n",
       "1  2019    39       52XX S KOLMAR AVE     52  T114    GRAVID   \n",
       "2  2019    39      58XX N WESTERN AVE     58  T028    GRAVID   \n",
       "3  2019    39  39XX N SPRINGFIELD AVE     39  T228    GRAVID   \n",
       "4  2019    39     131XX S BRANDON AVE    131  T209    GRAVID   \n",
       "\n",
       "                  Date  Mosquito number Mosquito ID WNV Present  \\\n",
       "0  2019-09-26 00:09:00                2         Res    negative   \n",
       "1  2019-09-26 00:09:00                1         Res    negative   \n",
       "2  2019-09-26 00:09:00                2         Res    negative   \n",
       "3  2019-09-26 00:09:00                1         Res    negative   \n",
       "4  2019-09-26 00:09:00                9         Res    negative   \n",
       "\n",
       "          Species        Lat        Lon  \n",
       "0  CULEX RESTUANS        NaN        NaN  \n",
       "1  CULEX RESTUANS  41.798211 -87.736925  \n",
       "2  CULEX RESTUANS  41.987245 -87.689417  \n",
       "3  CULEX RESTUANS  41.953664 -87.724987  \n",
       "4  CULEX RESTUANS  41.657069 -87.546049  "
      ]
     },
     "execution_count": 5,
     "metadata": {},
     "output_type": "execute_result"
    }
   ],
   "source": [
    "# Visualize the first 5 rows of the dataset\n",
    "raw_data.head()"
   ]
  },
  {
   "cell_type": "code",
   "execution_count": 6,
   "id": "3c897424",
   "metadata": {},
   "outputs": [
    {
     "data": {
      "text/html": [
       "<div>\n",
       "<style scoped>\n",
       "    .dataframe tbody tr th:only-of-type {\n",
       "        vertical-align: middle;\n",
       "    }\n",
       "\n",
       "    .dataframe tbody tr th {\n",
       "        vertical-align: top;\n",
       "    }\n",
       "\n",
       "    .dataframe thead th {\n",
       "        text-align: right;\n",
       "    }\n",
       "</style>\n",
       "<table border=\"1\" class=\"dataframe\">\n",
       "  <thead>\n",
       "    <tr style=\"text-align: right;\">\n",
       "      <th></th>\n",
       "      <th>Year</th>\n",
       "      <th>Week</th>\n",
       "      <th>Address Block</th>\n",
       "      <th>Block</th>\n",
       "      <th>Trap</th>\n",
       "      <th>Trap type</th>\n",
       "      <th>Date</th>\n",
       "      <th>Mosquito number</th>\n",
       "      <th>Mosquito ID</th>\n",
       "      <th>WNV Present</th>\n",
       "      <th>Species</th>\n",
       "      <th>Lat</th>\n",
       "      <th>Lon</th>\n",
       "    </tr>\n",
       "  </thead>\n",
       "  <tbody>\n",
       "    <tr>\n",
       "      <th>18490</th>\n",
       "      <td>2016</td>\n",
       "      <td>36</td>\n",
       "      <td>3XX W 18TH ST</td>\n",
       "      <td>3</td>\n",
       "      <td>T043</td>\n",
       "      <td>GRAVID</td>\n",
       "      <td>2016-09-09 00:09:00</td>\n",
       "      <td>4</td>\n",
       "      <td>Pip</td>\n",
       "      <td>positive</td>\n",
       "      <td>CULEX PIPIENS</td>\n",
       "      <td>41.857843</td>\n",
       "      <td>-87.635858</td>\n",
       "    </tr>\n",
       "    <tr>\n",
       "      <th>18491</th>\n",
       "      <td>2007</td>\n",
       "      <td>34</td>\n",
       "      <td>46XX N MILWAUKEE AVE</td>\n",
       "      <td>46</td>\n",
       "      <td>T003</td>\n",
       "      <td>GRAVID</td>\n",
       "      <td>2007-08-24 00:08:00</td>\n",
       "      <td>19</td>\n",
       "      <td>Pip</td>\n",
       "      <td>positive</td>\n",
       "      <td>CULEX PIPIENS</td>\n",
       "      <td>41.965376</td>\n",
       "      <td>-87.758403</td>\n",
       "    </tr>\n",
       "    <tr>\n",
       "      <th>18492</th>\n",
       "      <td>2016</td>\n",
       "      <td>30</td>\n",
       "      <td>127XX S DOTY AVE</td>\n",
       "      <td>127</td>\n",
       "      <td>T115</td>\n",
       "      <td>GRAVID</td>\n",
       "      <td>2016-07-27 00:07:00</td>\n",
       "      <td>34</td>\n",
       "      <td>Res</td>\n",
       "      <td>positive</td>\n",
       "      <td>CULEX RESTUANS</td>\n",
       "      <td>41.662395</td>\n",
       "      <td>-87.590176</td>\n",
       "    </tr>\n",
       "    <tr>\n",
       "      <th>18493</th>\n",
       "      <td>2017</td>\n",
       "      <td>33</td>\n",
       "      <td>20XX N DOMINICK ST</td>\n",
       "      <td>20</td>\n",
       "      <td>T240B</td>\n",
       "      <td>SENTINEL</td>\n",
       "      <td>2017-08-17 00:08:00</td>\n",
       "      <td>50</td>\n",
       "      <td>Res</td>\n",
       "      <td>positive</td>\n",
       "      <td>CULEX RESTUANS</td>\n",
       "      <td>41.919197</td>\n",
       "      <td>-87.664758</td>\n",
       "    </tr>\n",
       "    <tr>\n",
       "      <th>18494</th>\n",
       "      <td>2015</td>\n",
       "      <td>33</td>\n",
       "      <td>100XX W OHARE AIRPORT</td>\n",
       "      <td>100</td>\n",
       "      <td>T902</td>\n",
       "      <td>GRAVID</td>\n",
       "      <td>2015-08-20 00:08:00</td>\n",
       "      <td>6</td>\n",
       "      <td>Res</td>\n",
       "      <td>positive</td>\n",
       "      <td>CULEX RESTUANS</td>\n",
       "      <td>NaN</td>\n",
       "      <td>NaN</td>\n",
       "    </tr>\n",
       "  </tbody>\n",
       "</table>\n",
       "</div>"
      ],
      "text/plain": [
       "       Year  Week          Address Block  Block   Trap Trap type  \\\n",
       "18490  2016    36          3XX W 18TH ST      3   T043    GRAVID   \n",
       "18491  2007    34   46XX N MILWAUKEE AVE     46   T003    GRAVID   \n",
       "18492  2016    30       127XX S DOTY AVE    127   T115    GRAVID   \n",
       "18493  2017    33     20XX N DOMINICK ST     20  T240B  SENTINEL   \n",
       "18494  2015    33  100XX W OHARE AIRPORT    100   T902    GRAVID   \n",
       "\n",
       "                      Date  Mosquito number Mosquito ID WNV Present  \\\n",
       "18490  2016-09-09 00:09:00                4         Pip    positive   \n",
       "18491  2007-08-24 00:08:00               19         Pip    positive   \n",
       "18492  2016-07-27 00:07:00               34         Res    positive   \n",
       "18493  2017-08-17 00:08:00               50         Res    positive   \n",
       "18494  2015-08-20 00:08:00                6         Res    positive   \n",
       "\n",
       "              Species        Lat        Lon  \n",
       "18490   CULEX PIPIENS  41.857843 -87.635858  \n",
       "18491   CULEX PIPIENS  41.965376 -87.758403  \n",
       "18492  CULEX RESTUANS  41.662395 -87.590176  \n",
       "18493  CULEX RESTUANS  41.919197 -87.664758  \n",
       "18494  CULEX RESTUANS        NaN        NaN  "
      ]
     },
     "execution_count": 6,
     "metadata": {},
     "output_type": "execute_result"
    }
   ],
   "source": [
    "# Visualize the last 5 rows of the dataset\n",
    "raw_data.tail()"
   ]
  },
  {
   "cell_type": "code",
   "execution_count": 7,
   "id": "3c5efcb9",
   "metadata": {},
   "outputs": [
    {
     "data": {
      "text/html": [
       "<div>\n",
       "<style scoped>\n",
       "    .dataframe tbody tr th:only-of-type {\n",
       "        vertical-align: middle;\n",
       "    }\n",
       "\n",
       "    .dataframe tbody tr th {\n",
       "        vertical-align: top;\n",
       "    }\n",
       "\n",
       "    .dataframe thead th {\n",
       "        text-align: right;\n",
       "    }\n",
       "</style>\n",
       "<table border=\"1\" class=\"dataframe\">\n",
       "  <thead>\n",
       "    <tr style=\"text-align: right;\">\n",
       "      <th></th>\n",
       "      <th>Year</th>\n",
       "      <th>Week</th>\n",
       "      <th>Address Block</th>\n",
       "      <th>Block</th>\n",
       "      <th>Trap</th>\n",
       "      <th>Trap type</th>\n",
       "      <th>Date</th>\n",
       "      <th>Mosquito number</th>\n",
       "      <th>Mosquito ID</th>\n",
       "      <th>WNV Present</th>\n",
       "      <th>Species</th>\n",
       "      <th>Lat</th>\n",
       "      <th>Lon</th>\n",
       "    </tr>\n",
       "  </thead>\n",
       "  <tbody>\n",
       "    <tr>\n",
       "      <th>17486</th>\n",
       "      <td>2007</td>\n",
       "      <td>28</td>\n",
       "      <td>4XX W 127TH</td>\n",
       "      <td>4</td>\n",
       "      <td>T135</td>\n",
       "      <td>CDC</td>\n",
       "      <td>2007-08-01 02:08:34</td>\n",
       "      <td>10</td>\n",
       "      <td>Pip</td>\n",
       "      <td>positive</td>\n",
       "      <td>CULEX PIPIENS</td>\n",
       "      <td>NaN</td>\n",
       "      <td>NaN</td>\n",
       "    </tr>\n",
       "    <tr>\n",
       "      <th>7885</th>\n",
       "      <td>2013</td>\n",
       "      <td>26</td>\n",
       "      <td>6XX E 91ST PL</td>\n",
       "      <td>6</td>\n",
       "      <td>T227</td>\n",
       "      <td>GRAVID</td>\n",
       "      <td>2013-06-28 00:06:00</td>\n",
       "      <td>22</td>\n",
       "      <td>Res</td>\n",
       "      <td>negative</td>\n",
       "      <td>CULEX RESTUANS</td>\n",
       "      <td>41.728490</td>\n",
       "      <td>-87.608524</td>\n",
       "    </tr>\n",
       "    <tr>\n",
       "      <th>1197</th>\n",
       "      <td>2018</td>\n",
       "      <td>36</td>\n",
       "      <td>70XX W ARMITAGE AVE</td>\n",
       "      <td>70</td>\n",
       "      <td>T151</td>\n",
       "      <td>GRAVID</td>\n",
       "      <td>2018-09-06 00:09:00</td>\n",
       "      <td>3</td>\n",
       "      <td>Res</td>\n",
       "      <td>negative</td>\n",
       "      <td>CULEX RESTUANS</td>\n",
       "      <td>41.916135</td>\n",
       "      <td>-87.801093</td>\n",
       "    </tr>\n",
       "    <tr>\n",
       "      <th>14048</th>\n",
       "      <td>2007</td>\n",
       "      <td>36</td>\n",
       "      <td>101XX S STONY ISLAND AVE</td>\n",
       "      <td>101</td>\n",
       "      <td>T138</td>\n",
       "      <td>CDC</td>\n",
       "      <td>2007-09-12 00:09:00</td>\n",
       "      <td>42</td>\n",
       "      <td>Pip</td>\n",
       "      <td>negative</td>\n",
       "      <td>CULEX PIPIENS</td>\n",
       "      <td>41.710542</td>\n",
       "      <td>-87.584559</td>\n",
       "    </tr>\n",
       "    <tr>\n",
       "      <th>7507</th>\n",
       "      <td>2013</td>\n",
       "      <td>31</td>\n",
       "      <td>70XX N MOSELLE AVE</td>\n",
       "      <td>70</td>\n",
       "      <td>T008</td>\n",
       "      <td>GRAVID</td>\n",
       "      <td>2013-08-01 00:08:00</td>\n",
       "      <td>13</td>\n",
       "      <td>Pip</td>\n",
       "      <td>negative</td>\n",
       "      <td>CULEX PIPIENS</td>\n",
       "      <td>42.007998</td>\n",
       "      <td>-87.778235</td>\n",
       "    </tr>\n",
       "  </tbody>\n",
       "</table>\n",
       "</div>"
      ],
      "text/plain": [
       "       Year  Week             Address Block  Block  Trap Trap type  \\\n",
       "17486  2007    28               4XX W 127TH      4  T135       CDC   \n",
       "7885   2013    26             6XX E 91ST PL      6  T227    GRAVID   \n",
       "1197   2018    36       70XX W ARMITAGE AVE     70  T151    GRAVID   \n",
       "14048  2007    36  101XX S STONY ISLAND AVE    101  T138       CDC   \n",
       "7507   2013    31        70XX N MOSELLE AVE     70  T008    GRAVID   \n",
       "\n",
       "                      Date  Mosquito number Mosquito ID WNV Present  \\\n",
       "17486  2007-08-01 02:08:34               10         Pip    positive   \n",
       "7885   2013-06-28 00:06:00               22         Res    negative   \n",
       "1197   2018-09-06 00:09:00                3         Res    negative   \n",
       "14048  2007-09-12 00:09:00               42         Pip    negative   \n",
       "7507   2013-08-01 00:08:00               13         Pip    negative   \n",
       "\n",
       "              Species        Lat        Lon  \n",
       "17486   CULEX PIPIENS        NaN        NaN  \n",
       "7885   CULEX RESTUANS  41.728490 -87.608524  \n",
       "1197   CULEX RESTUANS  41.916135 -87.801093  \n",
       "14048   CULEX PIPIENS  41.710542 -87.584559  \n",
       "7507    CULEX PIPIENS  42.007998 -87.778235  "
      ]
     },
     "execution_count": 7,
     "metadata": {},
     "output_type": "execute_result"
    }
   ],
   "source": [
    "# Visualize a sample of the dataset\n",
    "raw_data.sample(5)"
   ]
  },
  {
   "cell_type": "markdown",
   "id": "b370d3d9",
   "metadata": {},
   "source": [
    "**Annotation:** The dataset contains a mix of text and numeric data types with some missing values in Lat and Lon columns."
   ]
  },
  {
   "cell_type": "markdown",
   "id": "17360e93",
   "metadata": {},
   "source": [
    "## 2. Data Wrangling: cleaning and processing for analysis <a class=\"anchor\" id=\"2\"></a>"
   ]
  },
  {
   "cell_type": "code",
   "execution_count": 8,
   "id": "2b2c063d",
   "metadata": {},
   "outputs": [
    {
     "name": "stdout",
     "output_type": "stream",
     "text": [
      "The DataFrame has: (18495, 13) Rows and columns\n"
     ]
    }
   ],
   "source": [
    "# Get the DataFrame shape\n",
    "\n",
    "print('The DataFrame has:', raw_data.shape,'Rows and columns')"
   ]
  },
  {
   "cell_type": "markdown",
   "id": "844c1aa2",
   "metadata": {},
   "source": [
    "### Data types"
   ]
  },
  {
   "cell_type": "code",
   "execution_count": 9,
   "id": "954e7110",
   "metadata": {},
   "outputs": [
    {
     "name": "stdout",
     "output_type": "stream",
     "text": [
      "<class 'pandas.core.frame.DataFrame'>\n",
      "RangeIndex: 18495 entries, 0 to 18494\n",
      "Data columns (total 13 columns):\n",
      " #   Column           Non-Null Count  Dtype  \n",
      "---  ------           --------------  -----  \n",
      " 0   Year             18495 non-null  int64  \n",
      " 1   Week             18495 non-null  int64  \n",
      " 2   Address Block    18495 non-null  object \n",
      " 3   Block            18495 non-null  int64  \n",
      " 4   Trap             18495 non-null  object \n",
      " 5   Trap type        18495 non-null  object \n",
      " 6   Date             18495 non-null  object \n",
      " 7   Mosquito number  18495 non-null  int64  \n",
      " 8   Mosquito ID      18495 non-null  object \n",
      " 9   WNV Present      18495 non-null  object \n",
      " 10  Species          18495 non-null  object \n",
      " 11  Lat              15571 non-null  float64\n",
      " 12  Lon              15571 non-null  float64\n",
      "dtypes: float64(2), int64(4), object(7)\n",
      "memory usage: 1.8+ MB\n"
     ]
    }
   ],
   "source": [
    "# Visualize the default data types set\n",
    "\n",
    "raw_data.info()"
   ]
  },
  {
   "cell_type": "markdown",
   "id": "a4c4366c",
   "metadata": {},
   "source": [
    "**Annotation:** There are some numerical and categorical columns. Date column is set as *object* datatype, it is necessary to convert to *datetype*. The other columns seem to be set properly."
   ]
  },
  {
   "cell_type": "code",
   "execution_count": 9,
   "id": "10db1c13",
   "metadata": {},
   "outputs": [
    {
     "data": {
      "text/plain": [
       "Year                        int64\n",
       "Week                        int64\n",
       "Address Block              object\n",
       "Block                       int64\n",
       "Trap                       object\n",
       "Trap type                  object\n",
       "Date               datetime64[ns]\n",
       "Mosquito number             int64\n",
       "Mosquito ID                object\n",
       "WNV Present                object\n",
       "Species                    object\n",
       "Lat                       float64\n",
       "Lon                       float64\n",
       "dtype: object"
      ]
     },
     "execution_count": 9,
     "metadata": {},
     "output_type": "execute_result"
    }
   ],
   "source": [
    "# Convert the 'Date' column to have a datetime datatype format.\n",
    "\n",
    "raw_data['Date'] = pd.to_datetime(raw_data['Date'])\n",
    "\n",
    "# Sanity check\n",
    "raw_data.dtypes"
   ]
  },
  {
   "cell_type": "code",
   "execution_count": 10,
   "id": "5336a5d3",
   "metadata": {},
   "outputs": [
    {
     "data": {
      "text/html": [
       "<div>\n",
       "<style scoped>\n",
       "    .dataframe tbody tr th:only-of-type {\n",
       "        vertical-align: middle;\n",
       "    }\n",
       "\n",
       "    .dataframe tbody tr th {\n",
       "        vertical-align: top;\n",
       "    }\n",
       "\n",
       "    .dataframe thead th {\n",
       "        text-align: right;\n",
       "    }\n",
       "</style>\n",
       "<table border=\"1\" class=\"dataframe\">\n",
       "  <thead>\n",
       "    <tr style=\"text-align: right;\">\n",
       "      <th></th>\n",
       "      <th>Year</th>\n",
       "      <th>Week</th>\n",
       "      <th>Block</th>\n",
       "      <th>Mosquito number</th>\n",
       "      <th>Lat</th>\n",
       "      <th>Lon</th>\n",
       "    </tr>\n",
       "  </thead>\n",
       "  <tbody>\n",
       "    <tr>\n",
       "      <th>count</th>\n",
       "      <td>18495.000000</td>\n",
       "      <td>18495.000000</td>\n",
       "      <td>18495.000000</td>\n",
       "      <td>18495.000000</td>\n",
       "      <td>15571.000000</td>\n",
       "      <td>15571.000000</td>\n",
       "    </tr>\n",
       "    <tr>\n",
       "      <th>mean</th>\n",
       "      <td>2012.905812</td>\n",
       "      <td>31.004001</td>\n",
       "      <td>54.314788</td>\n",
       "      <td>10.879913</td>\n",
       "      <td>41.839963</td>\n",
       "      <td>-87.691642</td>\n",
       "    </tr>\n",
       "    <tr>\n",
       "      <th>std</th>\n",
       "      <td>3.725857</td>\n",
       "      <td>4.332020</td>\n",
       "      <td>36.712796</td>\n",
       "      <td>13.475066</td>\n",
       "      <td>0.111374</td>\n",
       "      <td>0.076545</td>\n",
       "    </tr>\n",
       "    <tr>\n",
       "      <th>min</th>\n",
       "      <td>2007.000000</td>\n",
       "      <td>20.000000</td>\n",
       "      <td>1.000000</td>\n",
       "      <td>1.000000</td>\n",
       "      <td>41.644720</td>\n",
       "      <td>-87.854473</td>\n",
       "    </tr>\n",
       "    <tr>\n",
       "      <th>25%</th>\n",
       "      <td>2010.000000</td>\n",
       "      <td>28.000000</td>\n",
       "      <td>22.000000</td>\n",
       "      <td>2.000000</td>\n",
       "      <td>41.742670</td>\n",
       "      <td>-87.747459</td>\n",
       "    </tr>\n",
       "    <tr>\n",
       "      <th>50%</th>\n",
       "      <td>2013.000000</td>\n",
       "      <td>31.000000</td>\n",
       "      <td>51.000000</td>\n",
       "      <td>5.000000</td>\n",
       "      <td>41.845715</td>\n",
       "      <td>-87.691698</td>\n",
       "    </tr>\n",
       "    <tr>\n",
       "      <th>75%</th>\n",
       "      <td>2016.000000</td>\n",
       "      <td>34.000000</td>\n",
       "      <td>89.000000</td>\n",
       "      <td>14.000000</td>\n",
       "      <td>41.945961</td>\n",
       "      <td>-87.637873</td>\n",
       "    </tr>\n",
       "    <tr>\n",
       "      <th>max</th>\n",
       "      <td>2019.000000</td>\n",
       "      <td>40.000000</td>\n",
       "      <td>132.000000</td>\n",
       "      <td>50.000000</td>\n",
       "      <td>42.017801</td>\n",
       "      <td>-87.531051</td>\n",
       "    </tr>\n",
       "  </tbody>\n",
       "</table>\n",
       "</div>"
      ],
      "text/plain": [
       "               Year          Week         Block  Mosquito number  \\\n",
       "count  18495.000000  18495.000000  18495.000000     18495.000000   \n",
       "mean    2012.905812     31.004001     54.314788        10.879913   \n",
       "std        3.725857      4.332020     36.712796        13.475066   \n",
       "min     2007.000000     20.000000      1.000000         1.000000   \n",
       "25%     2010.000000     28.000000     22.000000         2.000000   \n",
       "50%     2013.000000     31.000000     51.000000         5.000000   \n",
       "75%     2016.000000     34.000000     89.000000        14.000000   \n",
       "max     2019.000000     40.000000    132.000000        50.000000   \n",
       "\n",
       "                Lat           Lon  \n",
       "count  15571.000000  15571.000000  \n",
       "mean      41.839963    -87.691642  \n",
       "std        0.111374      0.076545  \n",
       "min       41.644720    -87.854473  \n",
       "25%       41.742670    -87.747459  \n",
       "50%       41.845715    -87.691698  \n",
       "75%       41.945961    -87.637873  \n",
       "max       42.017801    -87.531051  "
      ]
     },
     "execution_count": 10,
     "metadata": {},
     "output_type": "execute_result"
    }
   ],
   "source": [
    "# Get the summary stats for numeric columns\n",
    "\n",
    "raw_data.describe()"
   ]
  },
  {
   "cell_type": "markdown",
   "id": "a5582f8a",
   "metadata": {},
   "source": [
    "**Exploring more details of the Columns**"
   ]
  },
  {
   "cell_type": "code",
   "execution_count": 11,
   "id": "124a6d90",
   "metadata": {},
   "outputs": [
    {
     "data": {
      "text/plain": [
       "Index(['Year', 'Week', 'Address Block', 'Block', 'Trap', 'Trap type', 'Date',\n",
       "       'Mosquito number', 'Mosquito ID', 'WNV Present', 'Species', 'Lat',\n",
       "       'Lon'],\n",
       "      dtype='object')"
      ]
     },
     "execution_count": 11,
     "metadata": {},
     "output_type": "execute_result"
    }
   ],
   "source": [
    "# Look at the list of columns\n",
    "raw_data.columns"
   ]
  },
  {
   "cell_type": "markdown",
   "id": "cc4dc18e",
   "metadata": {},
   "source": [
    "**Numeric columns**"
   ]
  },
  {
   "cell_type": "code",
   "execution_count": 12,
   "id": "16e8d9ed",
   "metadata": {},
   "outputs": [
    {
     "data": {
      "text/plain": [
       "count    18495.000000\n",
       "mean        10.879913\n",
       "std         13.475066\n",
       "min          1.000000\n",
       "25%          2.000000\n",
       "50%          5.000000\n",
       "75%         14.000000\n",
       "max         50.000000\n",
       "Name: Mosquito number, dtype: float64"
      ]
     },
     "execution_count": 12,
     "metadata": {},
     "output_type": "execute_result"
    }
   ],
   "source": [
    "# Characteristics of Mosquito number column\n",
    "\n",
    "raw_data['Mosquito number'].describe()"
   ]
  },
  {
   "cell_type": "code",
   "execution_count": 46,
   "id": "bf143f90",
   "metadata": {},
   "outputs": [
    {
     "data": {
      "image/png": "[encoded data removed]",
      "text/plain": [
       "<Figure size 500x400 with 1 Axes>"
      ]
     },
     "metadata": {},
     "output_type": "display_data"
    }
   ],
   "source": [
    "# Visualize the distribution of Mosquito number column\n",
    "\n",
    "plt.figure(figsize=(5,4))\n",
    "plt.hist(raw_data['Mosquito number'], bins=10)\n",
    "\n",
    "plt.axvline(raw_data['Mosquito number'].mean(), 0, 1000, label=\"mean\", color=\"lightcoral\")\n",
    "plt.axvline(raw_data['Mosquito number'].median(), 0, 1000, label=\"median\", color=\"lightcoral\", linestyle=\"--\")\n",
    "\n",
    "plt.xlabel('Mosquito number per TRAP', size='10')\n",
    "plt.ylabel('Traps', size='10')\n",
    "\n",
    "plt.title(f\"Distribution of {'Mosquito number'}\", size=10)\n",
    "sns.despine()\n",
    "plt.legend()\n",
    "plt.show()"
   ]
  },
  {
   "cell_type": "markdown",
   "id": "913b2df2",
   "metadata": {},
   "source": [
    "**Annotation:** Mosquito number contains the number of mosquitos caught in each trap, it is important to remember that if the trap had more than 50 mosquitos a new record was generated to count the next group of 50 mosquitos, then the max number of mosquitos is 50. The distribution of this columns evidenced the average number of mosquitos per observation(row) was 10.9, but 50% of the traps had less than 5 mosquitos."
   ]
  },
  {
   "cell_type": "code",
   "execution_count": 14,
   "id": "ca548853",
   "metadata": {},
   "outputs": [
    {
     "data": {
      "text/plain": [
       "count    18495.000000\n",
       "mean      2012.905812\n",
       "std          3.725857\n",
       "min       2007.000000\n",
       "25%       2010.000000\n",
       "50%       2013.000000\n",
       "75%       2016.000000\n",
       "max       2019.000000\n",
       "Name: Year, dtype: float64"
      ]
     },
     "execution_count": 14,
     "metadata": {},
     "output_type": "execute_result"
    }
   ],
   "source": [
    "# Characteristics of Year number column\n",
    "\n",
    "raw_data['Year'].describe()"
   ]
  },
  {
   "cell_type": "markdown",
   "id": "79946a9c",
   "metadata": {},
   "source": [
    "Year column describe when(year) the WNV test was performed"
   ]
  },
  {
   "cell_type": "markdown",
   "id": "74e5d824",
   "metadata": {},
   "source": [
    "**Categoric columns**"
   ]
  },
  {
   "cell_type": "code",
   "execution_count": 15,
   "id": "23109bdb",
   "metadata": {},
   "outputs": [
    {
     "data": {
      "text/plain": [
       "0          GRAVID\n",
       "1          GRAVID\n",
       "2          GRAVID\n",
       "3          GRAVID\n",
       "4          GRAVID\n",
       "           ...   \n",
       "18490      GRAVID\n",
       "18491      GRAVID\n",
       "18492      GRAVID\n",
       "18493    SENTINEL\n",
       "18494      GRAVID\n",
       "Name: Trap type, Length: 18495, dtype: object"
      ]
     },
     "execution_count": 15,
     "metadata": {},
     "output_type": "execute_result"
    }
   ],
   "source": [
    "# Characteristics of Trap type column\n",
    "\n",
    "raw_data['Trap type']"
   ]
  },
  {
   "cell_type": "markdown",
   "id": "f0d4aeb3",
   "metadata": {},
   "source": [
    "The 18495 rows has a Trap type"
   ]
  },
  {
   "cell_type": "code",
   "execution_count": 16,
   "id": "7e6c3ab3",
   "metadata": {},
   "outputs": [
    {
     "data": {
      "text/plain": [
       "Trap type\n",
       "CDC           544\n",
       "GRAVID      17741\n",
       "OVI             1\n",
       "SENTINEL      209\n",
       "Name: Trap type, dtype: int64"
      ]
     },
     "execution_count": 16,
     "metadata": {},
     "output_type": "execute_result"
    }
   ],
   "source": [
    "# Which are the trap types:\n",
    "\n",
    "raw_data.groupby('Trap type')['Trap type'].count()"
   ]
  },
  {
   "cell_type": "code",
   "execution_count": 13,
   "id": "59d5e314",
   "metadata": {},
   "outputs": [
    {
     "data": {
      "image/png": "[encoded data removed]",
      "text/plain": [
       "<Figure size 400x300 with 1 Axes>"
      ]
     },
     "metadata": {},
     "output_type": "display_data"
    }
   ],
   "source": [
    "# Visualize the relative frequency of Trap types column\n",
    "\n",
    "raw_data['Trap type'].value_counts(normalize=True, dropna=False).plot(kind=\"barh\")\n",
    "plt.title(f\"Relative Frequency of Value - {'Trap type'}\", size=9)\n",
    "plt.show()\n"
   ]
  },
  {
   "cell_type": "markdown",
   "id": "9355cba7",
   "metadata": {},
   "source": [
    "**Annotation** There are 4 types of traps: CDC, GRAVID, OVI AND SENTINEL. The highest number of traps are the GRAVID Type, roughly 95% of the total Traps."
   ]
  },
  {
   "cell_type": "code",
   "execution_count": 18,
   "id": "5b24ca5c",
   "metadata": {},
   "outputs": [
    {
     "data": {
      "text/plain": [
       "Trap\n",
       "220A       4\n",
       "T001       7\n",
       "T002     406\n",
       "T002A     10\n",
       "T002B      2\n",
       "        ... \n",
       "T920       7\n",
       "T921       8\n",
       "T923      54\n",
       "T924      39\n",
       "T925      59\n",
       "Name: Trap, Length: 190, dtype: int64"
      ]
     },
     "execution_count": 18,
     "metadata": {},
     "output_type": "execute_result"
    }
   ],
   "source": [
    "# ID of trap column\n",
    "\n",
    "raw_data.groupby(by=['Trap'])['Trap'].count()"
   ]
  },
  {
   "cell_type": "markdown",
   "id": "b2b189b8",
   "metadata": {},
   "source": [
    "**Annotation** The data in the dataset contains data from 190 traps in total (including satelite traps)."
   ]
  },
  {
   "cell_type": "code",
   "execution_count": 19,
   "id": "4420d090",
   "metadata": {},
   "outputs": [
    {
     "data": {
      "text/plain": [
       "Species\n",
       "CULEX PIPIENS        5486\n",
       "CULEX RESTUANS      11866\n",
       "CULEX SALINARIUS      226\n",
       "CULEX TERRITANS       917\n",
       "Name: Species, dtype: int64"
      ]
     },
     "execution_count": 19,
     "metadata": {},
     "output_type": "execute_result"
    }
   ],
   "source": [
    "# Mosquito species column, count the absolute values for each specie.\n",
    "\n",
    "raw_data.groupby(by=['Species'])['Species'].count()"
   ]
  },
  {
   "cell_type": "code",
   "execution_count": 20,
   "id": "24b8b2ec",
   "metadata": {},
   "outputs": [
    {
     "data": {
      "image/png": "[encoded data removed]",
      "text/plain": [
       "<Figure size 400x300 with 1 Axes>"
      ]
     },
     "metadata": {},
     "output_type": "display_data"
    }
   ],
   "source": [
    "# Visualize the relative frequency of Mosquito species column\n",
    "\n",
    "raw_data['Species'].value_counts(normalize=True, dropna=False).plot(kind=\"barh\")\n",
    "plt.title(f\"Relative Frequency of Value - {'Species'}\", size=10)\n",
    "plt.show()\n"
   ]
  },
  {
   "cell_type": "markdown",
   "id": "b2bb0e64",
   "metadata": {},
   "source": [
    "**Annotation** The most common specie is Culex restuans (65% of the mosquitos included in the data), followed by Culex pipiens (30%)."
   ]
  },
  {
   "cell_type": "code",
   "execution_count": 21,
   "id": "c76aed13",
   "metadata": {},
   "outputs": [
    {
     "data": {
      "text/plain": [
       "Mosquito ID\n",
       "Pip     5486\n",
       "Res    11866\n",
       "Sal      226\n",
       "Ter      917\n",
       "Name: Mosquito ID, dtype: int64"
      ]
     },
     "execution_count": 21,
     "metadata": {},
     "output_type": "execute_result"
    }
   ],
   "source": [
    "# Mosquito ID species column\n",
    "\n",
    "raw_data.groupby(by=['Mosquito ID'])['Mosquito ID'].count()"
   ]
  },
  {
   "cell_type": "markdown",
   "id": "5b82d3db",
   "metadata": {},
   "source": [
    "**Annotation** There are 4 species of mosquitos. *Mosquito species* column and *Mosquito ID* species column have the same information. However, *Mosquito species* column has information more clear about the name of the specie."
   ]
  },
  {
   "cell_type": "code",
   "execution_count": 22,
   "id": "c9084d06",
   "metadata": {},
   "outputs": [
    {
     "data": {
      "text/plain": [
       "WNV Present\n",
       "negative    14501\n",
       "positive     3994\n",
       "Name: WNV Present, dtype: int64"
      ]
     },
     "execution_count": 22,
     "metadata": {},
     "output_type": "execute_result"
    }
   ],
   "source": [
    "# WNV Present column\n",
    "\n",
    "raw_data.groupby(by=['WNV Present'])['WNV Present'].count()"
   ]
  },
  {
   "cell_type": "markdown",
   "id": "6e4d40de",
   "metadata": {},
   "source": [
    "**Annotation** WNV Present column describe whether the mosquito West Nile Virus (WNV) was founded or not in the test. The categories are positive and negative."
   ]
  },
  {
   "cell_type": "code",
   "execution_count": 23,
   "id": "1bbe74ac",
   "metadata": {},
   "outputs": [
    {
     "data": {
      "image/png": "[encoded data removed]",
      "text/plain": [
       "<Figure size 400x300 with 1 Axes>"
      ]
     },
     "metadata": {},
     "output_type": "display_data"
    }
   ],
   "source": [
    "# Visualize the relative frequency of WNV Present column\n",
    "\n",
    "raw_data['WNV Present'].value_counts(normalize=True, dropna=False).plot(kind=\"barh\")\n",
    "plt.title(f\"Relative Frequency of Value - {'WNV Present'}\", size=10)\n",
    "plt.show()"
   ]
  },
  {
   "cell_type": "markdown",
   "id": "e2f909c3",
   "metadata": {},
   "source": [
    "**Annotation** 20% of the test reported positive to the West Nile Virus."
   ]
  },
  {
   "cell_type": "markdown",
   "id": "6ddcdc57",
   "metadata": {},
   "source": [
    "### Duplicates"
   ]
  },
  {
   "cell_type": "markdown",
   "id": "cb94eecb",
   "metadata": {},
   "source": [
    "**The columns** Date, block and Mosquito ID contain redundant information, then that columns will be eliminated. \n",
    "The new dataset will be named cleaner_data.\n"
   ]
  },
  {
   "cell_type": "code",
   "execution_count": 14,
   "id": "5a1c91f5",
   "metadata": {},
   "outputs": [
    {
     "data": {
      "text/html": [
       "<div>\n",
       "<style scoped>\n",
       "    .dataframe tbody tr th:only-of-type {\n",
       "        vertical-align: middle;\n",
       "    }\n",
       "\n",
       "    .dataframe tbody tr th {\n",
       "        vertical-align: top;\n",
       "    }\n",
       "\n",
       "    .dataframe thead th {\n",
       "        text-align: right;\n",
       "    }\n",
       "</style>\n",
       "<table border=\"1\" class=\"dataframe\">\n",
       "  <thead>\n",
       "    <tr style=\"text-align: right;\">\n",
       "      <th></th>\n",
       "      <th>Year</th>\n",
       "      <th>Week</th>\n",
       "      <th>Address Block</th>\n",
       "      <th>Trap</th>\n",
       "      <th>Trap type</th>\n",
       "      <th>Mosquito number</th>\n",
       "      <th>WNV Present</th>\n",
       "      <th>Species</th>\n",
       "      <th>Lat</th>\n",
       "      <th>Lon</th>\n",
       "    </tr>\n",
       "  </thead>\n",
       "  <tbody>\n",
       "    <tr>\n",
       "      <th>0</th>\n",
       "      <td>2019</td>\n",
       "      <td>39</td>\n",
       "      <td>100XX W OHARE AIRPORT</td>\n",
       "      <td>T910</td>\n",
       "      <td>GRAVID</td>\n",
       "      <td>2</td>\n",
       "      <td>negative</td>\n",
       "      <td>CULEX RESTUANS</td>\n",
       "      <td>NaN</td>\n",
       "      <td>NaN</td>\n",
       "    </tr>\n",
       "    <tr>\n",
       "      <th>1</th>\n",
       "      <td>2019</td>\n",
       "      <td>39</td>\n",
       "      <td>52XX S KOLMAR AVE</td>\n",
       "      <td>T114</td>\n",
       "      <td>GRAVID</td>\n",
       "      <td>1</td>\n",
       "      <td>negative</td>\n",
       "      <td>CULEX RESTUANS</td>\n",
       "      <td>41.798211</td>\n",
       "      <td>-87.736925</td>\n",
       "    </tr>\n",
       "    <tr>\n",
       "      <th>2</th>\n",
       "      <td>2019</td>\n",
       "      <td>39</td>\n",
       "      <td>58XX N WESTERN AVE</td>\n",
       "      <td>T028</td>\n",
       "      <td>GRAVID</td>\n",
       "      <td>2</td>\n",
       "      <td>negative</td>\n",
       "      <td>CULEX RESTUANS</td>\n",
       "      <td>41.987245</td>\n",
       "      <td>-87.689417</td>\n",
       "    </tr>\n",
       "    <tr>\n",
       "      <th>3</th>\n",
       "      <td>2019</td>\n",
       "      <td>39</td>\n",
       "      <td>39XX N SPRINGFIELD AVE</td>\n",
       "      <td>T228</td>\n",
       "      <td>GRAVID</td>\n",
       "      <td>1</td>\n",
       "      <td>negative</td>\n",
       "      <td>CULEX RESTUANS</td>\n",
       "      <td>41.953664</td>\n",
       "      <td>-87.724987</td>\n",
       "    </tr>\n",
       "    <tr>\n",
       "      <th>4</th>\n",
       "      <td>2019</td>\n",
       "      <td>39</td>\n",
       "      <td>131XX S BRANDON AVE</td>\n",
       "      <td>T209</td>\n",
       "      <td>GRAVID</td>\n",
       "      <td>9</td>\n",
       "      <td>negative</td>\n",
       "      <td>CULEX RESTUANS</td>\n",
       "      <td>41.657069</td>\n",
       "      <td>-87.546049</td>\n",
       "    </tr>\n",
       "  </tbody>\n",
       "</table>\n",
       "</div>"
      ],
      "text/plain": [
       "   Year  Week           Address Block  Trap Trap type  Mosquito number  \\\n",
       "0  2019    39   100XX W OHARE AIRPORT  T910    GRAVID                2   \n",
       "1  2019    39       52XX S KOLMAR AVE  T114    GRAVID                1   \n",
       "2  2019    39      58XX N WESTERN AVE  T028    GRAVID                2   \n",
       "3  2019    39  39XX N SPRINGFIELD AVE  T228    GRAVID                1   \n",
       "4  2019    39     131XX S BRANDON AVE  T209    GRAVID                9   \n",
       "\n",
       "  WNV Present         Species        Lat        Lon  \n",
       "0    negative  CULEX RESTUANS        NaN        NaN  \n",
       "1    negative  CULEX RESTUANS  41.798211 -87.736925  \n",
       "2    negative  CULEX RESTUANS  41.987245 -87.689417  \n",
       "3    negative  CULEX RESTUANS  41.953664 -87.724987  \n",
       "4    negative  CULEX RESTUANS  41.657069 -87.546049  "
      ]
     },
     "execution_count": 14,
     "metadata": {},
     "output_type": "execute_result"
    }
   ],
   "source": [
    "# Eliminate redundant columns and create a new dataset with the changes applied.\n",
    "cleaner_data = raw_data.drop(columns=['Date','Block','Mosquito ID'])\n",
    "\n",
    "#Sanity check\n",
    "cleaner_data.head()"
   ]
  },
  {
   "cell_type": "code",
   "execution_count": 15,
   "id": "866eb17e",
   "metadata": {},
   "outputs": [
    {
     "name": "stdout",
     "output_type": "stream",
     "text": [
      "New number of rows and columns in the dataset is:\n"
     ]
    },
    {
     "data": {
      "text/plain": [
       "(18495, 10)"
      ]
     },
     "execution_count": 15,
     "metadata": {},
     "output_type": "execute_result"
    }
   ],
   "source": [
    "#Sanity check\n",
    "print('New number of rows and columns in the dataset is:')\n",
    "cleaner_data.shape"
   ]
  },
  {
   "cell_type": "markdown",
   "id": "5dc2a61b",
   "metadata": {},
   "source": [
    "### Missing values"
   ]
  },
  {
   "cell_type": "code",
   "execution_count": 30,
   "id": "a81b4cda",
   "metadata": {},
   "outputs": [
    {
     "data": {
      "text/plain": [
       "Address Block         0\n",
       "Trap                  0\n",
       "Trap type             0\n",
       "Date                  0\n",
       "Mosquito number       0\n",
       "WNV Present           0\n",
       "Species               0\n",
       "Lat                2924\n",
       "Lon                2924\n",
       "dtype: int64"
      ]
     },
     "execution_count": 30,
     "metadata": {},
     "output_type": "execute_result"
    }
   ],
   "source": [
    "# Look for Null values in the dataset\n",
    "\n",
    "cleaner_data.isna().sum(axis=0)"
   ]
  },
  {
   "cell_type": "markdown",
   "id": "a9b0d488",
   "metadata": {},
   "source": [
    "**Annotation:** There are missing values in *Latitude* and *Longitude* columns"
   ]
  },
  {
   "cell_type": "code",
   "execution_count": 31,
   "id": "02a04f9f",
   "metadata": {},
   "outputs": [
    {
     "data": {
      "text/plain": [
       "Address Block       0.000000\n",
       "Trap                0.000000\n",
       "Trap type           0.000000\n",
       "Date                0.000000\n",
       "Mosquito number     0.000000\n",
       "WNV Present         0.000000\n",
       "Species             0.000000\n",
       "Lat                15.809678\n",
       "Lon                15.809678\n",
       "dtype: float64"
      ]
     },
     "execution_count": 31,
     "metadata": {},
     "output_type": "execute_result"
    }
   ],
   "source": [
    "# Calculate the percentage of missing data over the total data\n",
    "\n",
    "percentage_missing_data = cleaner_data.isna().sum(axis=0)/cleaner_data.shape[0]*100\n",
    "percentage_missing_data"
   ]
  },
  {
   "cell_type": "markdown",
   "id": "4a5bbe55",
   "metadata": {},
   "source": [
    "**Annotation:** The percentage of missing values is 15.8%"
   ]
  },
  {
   "cell_type": "code",
   "execution_count": 32,
   "id": "5f948151",
   "metadata": {
    "scrolled": true
   },
   "outputs": [
    {
     "data": {
      "text/html": [
       "<div>\n",
       "<style scoped>\n",
       "    .dataframe tbody tr th:only-of-type {\n",
       "        vertical-align: middle;\n",
       "    }\n",
       "\n",
       "    .dataframe tbody tr th {\n",
       "        vertical-align: top;\n",
       "    }\n",
       "\n",
       "    .dataframe thead th {\n",
       "        text-align: right;\n",
       "    }\n",
       "</style>\n",
       "<table border=\"1\" class=\"dataframe\">\n",
       "  <thead>\n",
       "    <tr style=\"text-align: right;\">\n",
       "      <th></th>\n",
       "      <th>Trap</th>\n",
       "      <th>Trap type</th>\n",
       "      <th>Date</th>\n",
       "      <th>Mosquito number</th>\n",
       "      <th>WNV Present</th>\n",
       "      <th>Species</th>\n",
       "      <th>Lat</th>\n",
       "      <th>Lon</th>\n",
       "    </tr>\n",
       "    <tr>\n",
       "      <th>Address Block</th>\n",
       "      <th></th>\n",
       "      <th></th>\n",
       "      <th></th>\n",
       "      <th></th>\n",
       "      <th></th>\n",
       "      <th></th>\n",
       "      <th></th>\n",
       "      <th></th>\n",
       "    </tr>\n",
       "  </thead>\n",
       "  <tbody>\n",
       "    <tr>\n",
       "      <th>100XX W OHARE</th>\n",
       "      <td>226</td>\n",
       "      <td>226</td>\n",
       "      <td>226</td>\n",
       "      <td>226</td>\n",
       "      <td>226</td>\n",
       "      <td>226</td>\n",
       "      <td>0</td>\n",
       "      <td>0</td>\n",
       "    </tr>\n",
       "    <tr>\n",
       "      <th>100XX W OHARE AIRPORT</th>\n",
       "      <td>2039</td>\n",
       "      <td>2039</td>\n",
       "      <td>2039</td>\n",
       "      <td>2039</td>\n",
       "      <td>2039</td>\n",
       "      <td>2039</td>\n",
       "      <td>0</td>\n",
       "      <td>0</td>\n",
       "    </tr>\n",
       "    <tr>\n",
       "      <th>115XX S AVENUE L</th>\n",
       "      <td>40</td>\n",
       "      <td>40</td>\n",
       "      <td>40</td>\n",
       "      <td>40</td>\n",
       "      <td>40</td>\n",
       "      <td>40</td>\n",
       "      <td>0</td>\n",
       "      <td>0</td>\n",
       "    </tr>\n",
       "    <tr>\n",
       "      <th>30XX S HOYNE</th>\n",
       "      <td>15</td>\n",
       "      <td>15</td>\n",
       "      <td>15</td>\n",
       "      <td>15</td>\n",
       "      <td>15</td>\n",
       "      <td>15</td>\n",
       "      <td>0</td>\n",
       "      <td>0</td>\n",
       "    </tr>\n",
       "    <tr>\n",
       "      <th>43XX N ASHLAND</th>\n",
       "      <td>10</td>\n",
       "      <td>10</td>\n",
       "      <td>10</td>\n",
       "      <td>10</td>\n",
       "      <td>10</td>\n",
       "      <td>10</td>\n",
       "      <td>0</td>\n",
       "      <td>0</td>\n",
       "    </tr>\n",
       "    <tr>\n",
       "      <th>4XX W 127TH</th>\n",
       "      <td>301</td>\n",
       "      <td>301</td>\n",
       "      <td>301</td>\n",
       "      <td>301</td>\n",
       "      <td>301</td>\n",
       "      <td>301</td>\n",
       "      <td>0</td>\n",
       "      <td>0</td>\n",
       "    </tr>\n",
       "    <tr>\n",
       "      <th>65XX N OAK PARK AVE</th>\n",
       "      <td>24</td>\n",
       "      <td>24</td>\n",
       "      <td>24</td>\n",
       "      <td>24</td>\n",
       "      <td>24</td>\n",
       "      <td>24</td>\n",
       "      <td>0</td>\n",
       "      <td>0</td>\n",
       "    </tr>\n",
       "    <tr>\n",
       "      <th>79XX S CHICAGO</th>\n",
       "      <td>136</td>\n",
       "      <td>136</td>\n",
       "      <td>136</td>\n",
       "      <td>136</td>\n",
       "      <td>136</td>\n",
       "      <td>136</td>\n",
       "      <td>0</td>\n",
       "      <td>0</td>\n",
       "    </tr>\n",
       "    <tr>\n",
       "      <th>81XX S ASHLAND</th>\n",
       "      <td>122</td>\n",
       "      <td>122</td>\n",
       "      <td>122</td>\n",
       "      <td>122</td>\n",
       "      <td>122</td>\n",
       "      <td>122</td>\n",
       "      <td>0</td>\n",
       "      <td>0</td>\n",
       "    </tr>\n",
       "    <tr>\n",
       "      <th>98XX S AVENUE G</th>\n",
       "      <td>11</td>\n",
       "      <td>11</td>\n",
       "      <td>11</td>\n",
       "      <td>11</td>\n",
       "      <td>11</td>\n",
       "      <td>11</td>\n",
       "      <td>0</td>\n",
       "      <td>0</td>\n",
       "    </tr>\n",
       "  </tbody>\n",
       "</table>\n",
       "</div>"
      ],
      "text/plain": [
       "                       Trap  Trap type  Date  Mosquito number  WNV Present  \\\n",
       "Address Block                                                                \n",
       "100XX W OHARE           226        226   226              226          226   \n",
       "100XX W OHARE AIRPORT  2039       2039  2039             2039         2039   \n",
       "115XX S AVENUE L         40         40    40               40           40   \n",
       "30XX S HOYNE             15         15    15               15           15   \n",
       "43XX N ASHLAND           10         10    10               10           10   \n",
       "4XX W 127TH             301        301   301              301          301   \n",
       "65XX N OAK PARK AVE      24         24    24               24           24   \n",
       "79XX S CHICAGO          136        136   136              136          136   \n",
       "81XX S ASHLAND          122        122   122              122          122   \n",
       "98XX S AVENUE G          11         11    11               11           11   \n",
       "\n",
       "                       Species  Lat  Lon  \n",
       "Address Block                             \n",
       "100XX W OHARE              226    0    0  \n",
       "100XX W OHARE AIRPORT     2039    0    0  \n",
       "115XX S AVENUE L            40    0    0  \n",
       "30XX S HOYNE                15    0    0  \n",
       "43XX N ASHLAND              10    0    0  \n",
       "4XX W 127TH                301    0    0  \n",
       "65XX N OAK PARK AVE         24    0    0  \n",
       "79XX S CHICAGO             136    0    0  \n",
       "81XX S ASHLAND             122    0    0  \n",
       "98XX S AVENUE G             11    0    0  "
      ]
     },
     "execution_count": 32,
     "metadata": {},
     "output_type": "execute_result"
    }
   ],
   "source": [
    "# Look where are the locations without Latitude nor Longitud data.\n",
    "\n",
    "cleaner_data[cleaner_data['Lat'].isna() | cleaner_data['Lon'].isna() ].groupby('Address Block').count()"
   ]
  },
  {
   "cell_type": "markdown",
   "id": "860067dc",
   "metadata": {},
   "source": [
    "**Annotation:** The major number of missing values correspond to the location *100XX W OHARE AIRPORT* with 2039 rows without the data over 2924 of total rows with Latitude or Longitude missing values."
   ]
  },
  {
   "cell_type": "markdown",
   "id": "95457850",
   "metadata": {},
   "source": [
    "**Fix the missing data**"
   ]
  },
  {
   "cell_type": "code",
   "execution_count": 33,
   "id": "3761c2c8",
   "metadata": {
    "scrolled": true
   },
   "outputs": [
    {
     "data": {
      "text/html": [
       "<div>\n",
       "<style scoped>\n",
       "    .dataframe tbody tr th:only-of-type {\n",
       "        vertical-align: middle;\n",
       "    }\n",
       "\n",
       "    .dataframe tbody tr th {\n",
       "        vertical-align: top;\n",
       "    }\n",
       "\n",
       "    .dataframe thead th {\n",
       "        text-align: right;\n",
       "    }\n",
       "</style>\n",
       "<table border=\"1\" class=\"dataframe\">\n",
       "  <thead>\n",
       "    <tr style=\"text-align: right;\">\n",
       "      <th></th>\n",
       "      <th></th>\n",
       "      <th>Trap type</th>\n",
       "      <th>Date</th>\n",
       "      <th>Mosquito number</th>\n",
       "      <th>WNV Present</th>\n",
       "      <th>Species</th>\n",
       "      <th>Lat</th>\n",
       "      <th>Lon</th>\n",
       "    </tr>\n",
       "    <tr>\n",
       "      <th>Address Block</th>\n",
       "      <th>Trap</th>\n",
       "      <th></th>\n",
       "      <th></th>\n",
       "      <th></th>\n",
       "      <th></th>\n",
       "      <th></th>\n",
       "      <th></th>\n",
       "      <th></th>\n",
       "    </tr>\n",
       "  </thead>\n",
       "  <tbody>\n",
       "    <tr>\n",
       "      <th rowspan=\"3\" valign=\"top\">100XX W OHARE</th>\n",
       "      <th>T903</th>\n",
       "      <td>129</td>\n",
       "      <td>129</td>\n",
       "      <td>129</td>\n",
       "      <td>129</td>\n",
       "      <td>129</td>\n",
       "      <td>0</td>\n",
       "      <td>0</td>\n",
       "    </tr>\n",
       "    <tr>\n",
       "      <th>T904</th>\n",
       "      <td>76</td>\n",
       "      <td>76</td>\n",
       "      <td>76</td>\n",
       "      <td>76</td>\n",
       "      <td>76</td>\n",
       "      <td>0</td>\n",
       "      <td>0</td>\n",
       "    </tr>\n",
       "    <tr>\n",
       "      <th>T909</th>\n",
       "      <td>21</td>\n",
       "      <td>21</td>\n",
       "      <td>21</td>\n",
       "      <td>21</td>\n",
       "      <td>21</td>\n",
       "      <td>0</td>\n",
       "      <td>0</td>\n",
       "    </tr>\n",
       "    <tr>\n",
       "      <th rowspan=\"21\" valign=\"top\">100XX W OHARE AIRPORT</th>\n",
       "      <th>T900</th>\n",
       "      <td>159</td>\n",
       "      <td>159</td>\n",
       "      <td>159</td>\n",
       "      <td>159</td>\n",
       "      <td>159</td>\n",
       "      <td>0</td>\n",
       "      <td>0</td>\n",
       "    </tr>\n",
       "    <tr>\n",
       "      <th>T901</th>\n",
       "      <td>108</td>\n",
       "      <td>108</td>\n",
       "      <td>108</td>\n",
       "      <td>108</td>\n",
       "      <td>108</td>\n",
       "      <td>0</td>\n",
       "      <td>0</td>\n",
       "    </tr>\n",
       "    <tr>\n",
       "      <th>T902</th>\n",
       "      <td>198</td>\n",
       "      <td>198</td>\n",
       "      <td>198</td>\n",
       "      <td>198</td>\n",
       "      <td>198</td>\n",
       "      <td>0</td>\n",
       "      <td>0</td>\n",
       "    </tr>\n",
       "    <tr>\n",
       "      <th>T905</th>\n",
       "      <td>203</td>\n",
       "      <td>203</td>\n",
       "      <td>203</td>\n",
       "      <td>203</td>\n",
       "      <td>203</td>\n",
       "      <td>0</td>\n",
       "      <td>0</td>\n",
       "    </tr>\n",
       "    <tr>\n",
       "      <th>T906</th>\n",
       "      <td>155</td>\n",
       "      <td>155</td>\n",
       "      <td>155</td>\n",
       "      <td>155</td>\n",
       "      <td>155</td>\n",
       "      <td>0</td>\n",
       "      <td>0</td>\n",
       "    </tr>\n",
       "    <tr>\n",
       "      <th>T907</th>\n",
       "      <td>20</td>\n",
       "      <td>20</td>\n",
       "      <td>20</td>\n",
       "      <td>20</td>\n",
       "      <td>20</td>\n",
       "      <td>0</td>\n",
       "      <td>0</td>\n",
       "    </tr>\n",
       "    <tr>\n",
       "      <th>T908</th>\n",
       "      <td>19</td>\n",
       "      <td>19</td>\n",
       "      <td>19</td>\n",
       "      <td>19</td>\n",
       "      <td>19</td>\n",
       "      <td>0</td>\n",
       "      <td>0</td>\n",
       "    </tr>\n",
       "    <tr>\n",
       "      <th>T910</th>\n",
       "      <td>70</td>\n",
       "      <td>70</td>\n",
       "      <td>70</td>\n",
       "      <td>70</td>\n",
       "      <td>70</td>\n",
       "      <td>0</td>\n",
       "      <td>0</td>\n",
       "    </tr>\n",
       "    <tr>\n",
       "      <th>T911</th>\n",
       "      <td>35</td>\n",
       "      <td>35</td>\n",
       "      <td>35</td>\n",
       "      <td>35</td>\n",
       "      <td>35</td>\n",
       "      <td>0</td>\n",
       "      <td>0</td>\n",
       "    </tr>\n",
       "    <tr>\n",
       "      <th>T912</th>\n",
       "      <td>272</td>\n",
       "      <td>272</td>\n",
       "      <td>272</td>\n",
       "      <td>272</td>\n",
       "      <td>272</td>\n",
       "      <td>0</td>\n",
       "      <td>0</td>\n",
       "    </tr>\n",
       "    <tr>\n",
       "      <th>T913</th>\n",
       "      <td>302</td>\n",
       "      <td>302</td>\n",
       "      <td>302</td>\n",
       "      <td>302</td>\n",
       "      <td>302</td>\n",
       "      <td>0</td>\n",
       "      <td>0</td>\n",
       "    </tr>\n",
       "    <tr>\n",
       "      <th>T914</th>\n",
       "      <td>3</td>\n",
       "      <td>3</td>\n",
       "      <td>3</td>\n",
       "      <td>3</td>\n",
       "      <td>3</td>\n",
       "      <td>0</td>\n",
       "      <td>0</td>\n",
       "    </tr>\n",
       "    <tr>\n",
       "      <th>T915</th>\n",
       "      <td>71</td>\n",
       "      <td>71</td>\n",
       "      <td>71</td>\n",
       "      <td>71</td>\n",
       "      <td>71</td>\n",
       "      <td>0</td>\n",
       "      <td>0</td>\n",
       "    </tr>\n",
       "    <tr>\n",
       "      <th>T916</th>\n",
       "      <td>180</td>\n",
       "      <td>180</td>\n",
       "      <td>180</td>\n",
       "      <td>180</td>\n",
       "      <td>180</td>\n",
       "      <td>0</td>\n",
       "      <td>0</td>\n",
       "    </tr>\n",
       "    <tr>\n",
       "      <th>T917</th>\n",
       "      <td>9</td>\n",
       "      <td>9</td>\n",
       "      <td>9</td>\n",
       "      <td>9</td>\n",
       "      <td>9</td>\n",
       "      <td>0</td>\n",
       "      <td>0</td>\n",
       "    </tr>\n",
       "    <tr>\n",
       "      <th>T918</th>\n",
       "      <td>68</td>\n",
       "      <td>68</td>\n",
       "      <td>68</td>\n",
       "      <td>68</td>\n",
       "      <td>68</td>\n",
       "      <td>0</td>\n",
       "      <td>0</td>\n",
       "    </tr>\n",
       "    <tr>\n",
       "      <th>T920</th>\n",
       "      <td>7</td>\n",
       "      <td>7</td>\n",
       "      <td>7</td>\n",
       "      <td>7</td>\n",
       "      <td>7</td>\n",
       "      <td>0</td>\n",
       "      <td>0</td>\n",
       "    </tr>\n",
       "    <tr>\n",
       "      <th>T921</th>\n",
       "      <td>8</td>\n",
       "      <td>8</td>\n",
       "      <td>8</td>\n",
       "      <td>8</td>\n",
       "      <td>8</td>\n",
       "      <td>0</td>\n",
       "      <td>0</td>\n",
       "    </tr>\n",
       "    <tr>\n",
       "      <th>T923</th>\n",
       "      <td>54</td>\n",
       "      <td>54</td>\n",
       "      <td>54</td>\n",
       "      <td>54</td>\n",
       "      <td>54</td>\n",
       "      <td>0</td>\n",
       "      <td>0</td>\n",
       "    </tr>\n",
       "    <tr>\n",
       "      <th>T924</th>\n",
       "      <td>39</td>\n",
       "      <td>39</td>\n",
       "      <td>39</td>\n",
       "      <td>39</td>\n",
       "      <td>39</td>\n",
       "      <td>0</td>\n",
       "      <td>0</td>\n",
       "    </tr>\n",
       "    <tr>\n",
       "      <th>T925</th>\n",
       "      <td>59</td>\n",
       "      <td>59</td>\n",
       "      <td>59</td>\n",
       "      <td>59</td>\n",
       "      <td>59</td>\n",
       "      <td>0</td>\n",
       "      <td>0</td>\n",
       "    </tr>\n",
       "    <tr>\n",
       "      <th>115XX S AVENUE L</th>\n",
       "      <th>T103</th>\n",
       "      <td>40</td>\n",
       "      <td>40</td>\n",
       "      <td>40</td>\n",
       "      <td>40</td>\n",
       "      <td>40</td>\n",
       "      <td>0</td>\n",
       "      <td>0</td>\n",
       "    </tr>\n",
       "    <tr>\n",
       "      <th>30XX S HOYNE</th>\n",
       "      <th>T035</th>\n",
       "      <td>15</td>\n",
       "      <td>15</td>\n",
       "      <td>15</td>\n",
       "      <td>15</td>\n",
       "      <td>15</td>\n",
       "      <td>0</td>\n",
       "      <td>0</td>\n",
       "    </tr>\n",
       "    <tr>\n",
       "      <th>43XX N ASHLAND</th>\n",
       "      <th>T145</th>\n",
       "      <td>10</td>\n",
       "      <td>10</td>\n",
       "      <td>10</td>\n",
       "      <td>10</td>\n",
       "      <td>10</td>\n",
       "      <td>0</td>\n",
       "      <td>0</td>\n",
       "    </tr>\n",
       "    <tr>\n",
       "      <th>4XX W 127TH</th>\n",
       "      <th>T135</th>\n",
       "      <td>301</td>\n",
       "      <td>301</td>\n",
       "      <td>301</td>\n",
       "      <td>301</td>\n",
       "      <td>301</td>\n",
       "      <td>0</td>\n",
       "      <td>0</td>\n",
       "    </tr>\n",
       "    <tr>\n",
       "      <th>65XX N OAK PARK AVE</th>\n",
       "      <th>T143</th>\n",
       "      <td>24</td>\n",
       "      <td>24</td>\n",
       "      <td>24</td>\n",
       "      <td>24</td>\n",
       "      <td>24</td>\n",
       "      <td>0</td>\n",
       "      <td>0</td>\n",
       "    </tr>\n",
       "    <tr>\n",
       "      <th>79XX S CHICAGO</th>\n",
       "      <th>T083</th>\n",
       "      <td>136</td>\n",
       "      <td>136</td>\n",
       "      <td>136</td>\n",
       "      <td>136</td>\n",
       "      <td>136</td>\n",
       "      <td>0</td>\n",
       "      <td>0</td>\n",
       "    </tr>\n",
       "    <tr>\n",
       "      <th>81XX S ASHLAND</th>\n",
       "      <th>T068</th>\n",
       "      <td>122</td>\n",
       "      <td>122</td>\n",
       "      <td>122</td>\n",
       "      <td>122</td>\n",
       "      <td>122</td>\n",
       "      <td>0</td>\n",
       "      <td>0</td>\n",
       "    </tr>\n",
       "    <tr>\n",
       "      <th>98XX S AVENUE G</th>\n",
       "      <th>T100</th>\n",
       "      <td>11</td>\n",
       "      <td>11</td>\n",
       "      <td>11</td>\n",
       "      <td>11</td>\n",
       "      <td>11</td>\n",
       "      <td>0</td>\n",
       "      <td>0</td>\n",
       "    </tr>\n",
       "  </tbody>\n",
       "</table>\n",
       "</div>"
      ],
      "text/plain": [
       "                            Trap type  Date  Mosquito number  WNV Present  \\\n",
       "Address Block         Trap                                                  \n",
       "100XX W OHARE         T903        129   129              129          129   \n",
       "                      T904         76    76               76           76   \n",
       "                      T909         21    21               21           21   \n",
       "100XX W OHARE AIRPORT T900        159   159              159          159   \n",
       "                      T901        108   108              108          108   \n",
       "                      T902        198   198              198          198   \n",
       "                      T905        203   203              203          203   \n",
       "                      T906        155   155              155          155   \n",
       "                      T907         20    20               20           20   \n",
       "                      T908         19    19               19           19   \n",
       "                      T910         70    70               70           70   \n",
       "                      T911         35    35               35           35   \n",
       "                      T912        272   272              272          272   \n",
       "                      T913        302   302              302          302   \n",
       "                      T914          3     3                3            3   \n",
       "                      T915         71    71               71           71   \n",
       "                      T916        180   180              180          180   \n",
       "                      T917          9     9                9            9   \n",
       "                      T918         68    68               68           68   \n",
       "                      T920          7     7                7            7   \n",
       "                      T921          8     8                8            8   \n",
       "                      T923         54    54               54           54   \n",
       "                      T924         39    39               39           39   \n",
       "                      T925         59    59               59           59   \n",
       "115XX S AVENUE L      T103         40    40               40           40   \n",
       "30XX S HOYNE          T035         15    15               15           15   \n",
       "43XX N ASHLAND        T145         10    10               10           10   \n",
       "4XX W 127TH           T135        301   301              301          301   \n",
       "65XX N OAK PARK AVE   T143         24    24               24           24   \n",
       "79XX S CHICAGO        T083        136   136              136          136   \n",
       "81XX S ASHLAND        T068        122   122              122          122   \n",
       "98XX S AVENUE G       T100         11    11               11           11   \n",
       "\n",
       "                            Species  Lat  Lon  \n",
       "Address Block         Trap                     \n",
       "100XX W OHARE         T903      129    0    0  \n",
       "                      T904       76    0    0  \n",
       "                      T909       21    0    0  \n",
       "100XX W OHARE AIRPORT T900      159    0    0  \n",
       "                      T901      108    0    0  \n",
       "                      T902      198    0    0  \n",
       "                      T905      203    0    0  \n",
       "                      T906      155    0    0  \n",
       "                      T907       20    0    0  \n",
       "                      T908       19    0    0  \n",
       "                      T910       70    0    0  \n",
       "                      T911       35    0    0  \n",
       "                      T912      272    0    0  \n",
       "                      T913      302    0    0  \n",
       "                      T914        3    0    0  \n",
       "                      T915       71    0    0  \n",
       "                      T916      180    0    0  \n",
       "                      T917        9    0    0  \n",
       "                      T918       68    0    0  \n",
       "                      T920        7    0    0  \n",
       "                      T921        8    0    0  \n",
       "                      T923       54    0    0  \n",
       "                      T924       39    0    0  \n",
       "                      T925       59    0    0  \n",
       "115XX S AVENUE L      T103       40    0    0  \n",
       "30XX S HOYNE          T035       15    0    0  \n",
       "43XX N ASHLAND        T145       10    0    0  \n",
       "4XX W 127TH           T135      301    0    0  \n",
       "65XX N OAK PARK AVE   T143       24    0    0  \n",
       "79XX S CHICAGO        T083      136    0    0  \n",
       "81XX S ASHLAND        T068      122    0    0  \n",
       "98XX S AVENUE G       T100       11    0    0  "
      ]
     },
     "execution_count": 33,
     "metadata": {},
     "output_type": "execute_result"
    }
   ],
   "source": [
    "# Try to find the missing data in other rows. \n",
    "# First, from the group of data without Lat nor Lon see the Address block and Trap\n",
    "\n",
    "cleaner_data[cleaner_data['Lat'].isna() | cleaner_data['Lon'].isna() ].groupby(['Address Block', 'Trap']).count()"
   ]
  },
  {
   "cell_type": "markdown",
   "id": "ceb58927",
   "metadata": {},
   "source": [
    "Now try to find the missing data looking in the complete dataset"
   ]
  },
  {
   "cell_type": "code",
   "execution_count": 34,
   "id": "2d599ae2",
   "metadata": {
    "scrolled": true
   },
   "outputs": [
    {
     "data": {
      "text/html": [
       "<div>\n",
       "<style scoped>\n",
       "    .dataframe tbody tr th:only-of-type {\n",
       "        vertical-align: middle;\n",
       "    }\n",
       "\n",
       "    .dataframe tbody tr th {\n",
       "        vertical-align: top;\n",
       "    }\n",
       "\n",
       "    .dataframe thead th {\n",
       "        text-align: right;\n",
       "    }\n",
       "</style>\n",
       "<table border=\"1\" class=\"dataframe\">\n",
       "  <thead>\n",
       "    <tr style=\"text-align: right;\">\n",
       "      <th></th>\n",
       "      <th>Address Block</th>\n",
       "      <th>Trap</th>\n",
       "      <th>Trap type</th>\n",
       "      <th>Date</th>\n",
       "      <th>Mosquito number</th>\n",
       "      <th>WNV Present</th>\n",
       "      <th>Species</th>\n",
       "      <th>Lat</th>\n",
       "      <th>Lon</th>\n",
       "    </tr>\n",
       "  </thead>\n",
       "  <tbody>\n",
       "    <tr>\n",
       "      <th>16204</th>\n",
       "      <td>100XX W OHARE AIRPORT</td>\n",
       "      <td>T913</td>\n",
       "      <td>GRAVID</td>\n",
       "      <td>2016-07-27 00:07:00</td>\n",
       "      <td>50</td>\n",
       "      <td>positive</td>\n",
       "      <td>CULEX RESTUANS</td>\n",
       "      <td>NaN</td>\n",
       "      <td>NaN</td>\n",
       "    </tr>\n",
       "    <tr>\n",
       "      <th>12876</th>\n",
       "      <td>100XX W OHARE AIRPORT</td>\n",
       "      <td>T913</td>\n",
       "      <td>GRAVID</td>\n",
       "      <td>2008-09-02 00:09:00</td>\n",
       "      <td>2</td>\n",
       "      <td>negative</td>\n",
       "      <td>CULEX PIPIENS</td>\n",
       "      <td>NaN</td>\n",
       "      <td>NaN</td>\n",
       "    </tr>\n",
       "    <tr>\n",
       "      <th>1439</th>\n",
       "      <td>100XX W OHARE AIRPORT</td>\n",
       "      <td>T913</td>\n",
       "      <td>GRAVID</td>\n",
       "      <td>2018-08-09 00:08:00</td>\n",
       "      <td>46</td>\n",
       "      <td>positive</td>\n",
       "      <td>CULEX RESTUANS</td>\n",
       "      <td>NaN</td>\n",
       "      <td>NaN</td>\n",
       "    </tr>\n",
       "    <tr>\n",
       "      <th>4202</th>\n",
       "      <td>100XX W OHARE AIRPORT</td>\n",
       "      <td>T913</td>\n",
       "      <td>GRAVID</td>\n",
       "      <td>2015-09-23 00:09:00</td>\n",
       "      <td>1</td>\n",
       "      <td>negative</td>\n",
       "      <td>CULEX RESTUANS</td>\n",
       "      <td>NaN</td>\n",
       "      <td>NaN</td>\n",
       "    </tr>\n",
       "    <tr>\n",
       "      <th>16488</th>\n",
       "      <td>100XX W OHARE AIRPORT</td>\n",
       "      <td>T913</td>\n",
       "      <td>GRAVID</td>\n",
       "      <td>2016-07-21 00:07:00</td>\n",
       "      <td>50</td>\n",
       "      <td>positive</td>\n",
       "      <td>CULEX RESTUANS</td>\n",
       "      <td>NaN</td>\n",
       "      <td>NaN</td>\n",
       "    </tr>\n",
       "    <tr>\n",
       "      <th>2766</th>\n",
       "      <td>100XX W OHARE AIRPORT</td>\n",
       "      <td>T913</td>\n",
       "      <td>GRAVID</td>\n",
       "      <td>2017-07-14 00:07:00</td>\n",
       "      <td>50</td>\n",
       "      <td>negative</td>\n",
       "      <td>CULEX RESTUANS</td>\n",
       "      <td>NaN</td>\n",
       "      <td>NaN</td>\n",
       "    </tr>\n",
       "    <tr>\n",
       "      <th>15572</th>\n",
       "      <td>100XX W OHARE AIRPORT</td>\n",
       "      <td>T913</td>\n",
       "      <td>GRAVID</td>\n",
       "      <td>2016-07-27 00:07:00</td>\n",
       "      <td>50</td>\n",
       "      <td>positive</td>\n",
       "      <td>CULEX RESTUANS</td>\n",
       "      <td>NaN</td>\n",
       "      <td>NaN</td>\n",
       "    </tr>\n",
       "    <tr>\n",
       "      <th>10711</th>\n",
       "      <td>100XX W OHARE AIRPORT</td>\n",
       "      <td>T913</td>\n",
       "      <td>GRAVID</td>\n",
       "      <td>2010-08-20 00:08:00</td>\n",
       "      <td>7</td>\n",
       "      <td>negative</td>\n",
       "      <td>CULEX RESTUANS</td>\n",
       "      <td>NaN</td>\n",
       "      <td>NaN</td>\n",
       "    </tr>\n",
       "    <tr>\n",
       "      <th>16198</th>\n",
       "      <td>100XX W OHARE AIRPORT</td>\n",
       "      <td>T913</td>\n",
       "      <td>GRAVID</td>\n",
       "      <td>2010-07-30 00:07:00</td>\n",
       "      <td>5</td>\n",
       "      <td>positive</td>\n",
       "      <td>CULEX SALINARIUS</td>\n",
       "      <td>NaN</td>\n",
       "      <td>NaN</td>\n",
       "    </tr>\n",
       "    <tr>\n",
       "      <th>17698</th>\n",
       "      <td>100XX W OHARE AIRPORT</td>\n",
       "      <td>T913</td>\n",
       "      <td>GRAVID</td>\n",
       "      <td>2016-07-21 00:07:00</td>\n",
       "      <td>50</td>\n",
       "      <td>positive</td>\n",
       "      <td>CULEX RESTUANS</td>\n",
       "      <td>NaN</td>\n",
       "      <td>NaN</td>\n",
       "    </tr>\n",
       "  </tbody>\n",
       "</table>\n",
       "</div>"
      ],
      "text/plain": [
       "               Address Block  Trap Trap type                Date  \\\n",
       "16204  100XX W OHARE AIRPORT  T913    GRAVID 2016-07-27 00:07:00   \n",
       "12876  100XX W OHARE AIRPORT  T913    GRAVID 2008-09-02 00:09:00   \n",
       "1439   100XX W OHARE AIRPORT  T913    GRAVID 2018-08-09 00:08:00   \n",
       "4202   100XX W OHARE AIRPORT  T913    GRAVID 2015-09-23 00:09:00   \n",
       "16488  100XX W OHARE AIRPORT  T913    GRAVID 2016-07-21 00:07:00   \n",
       "2766   100XX W OHARE AIRPORT  T913    GRAVID 2017-07-14 00:07:00   \n",
       "15572  100XX W OHARE AIRPORT  T913    GRAVID 2016-07-27 00:07:00   \n",
       "10711  100XX W OHARE AIRPORT  T913    GRAVID 2010-08-20 00:08:00   \n",
       "16198  100XX W OHARE AIRPORT  T913    GRAVID 2010-07-30 00:07:00   \n",
       "17698  100XX W OHARE AIRPORT  T913    GRAVID 2016-07-21 00:07:00   \n",
       "\n",
       "       Mosquito number WNV Present           Species  Lat  Lon  \n",
       "16204               50    positive    CULEX RESTUANS  NaN  NaN  \n",
       "12876                2    negative     CULEX PIPIENS  NaN  NaN  \n",
       "1439                46    positive    CULEX RESTUANS  NaN  NaN  \n",
       "4202                 1    negative    CULEX RESTUANS  NaN  NaN  \n",
       "16488               50    positive    CULEX RESTUANS  NaN  NaN  \n",
       "2766                50    negative    CULEX RESTUANS  NaN  NaN  \n",
       "15572               50    positive    CULEX RESTUANS  NaN  NaN  \n",
       "10711                7    negative    CULEX RESTUANS  NaN  NaN  \n",
       "16198                5    positive  CULEX SALINARIUS  NaN  NaN  \n",
       "17698               50    positive    CULEX RESTUANS  NaN  NaN  "
      ]
     },
     "execution_count": 34,
     "metadata": {},
     "output_type": "execute_result"
    }
   ],
   "source": [
    "# See in the complete dataset if some aleatory traps could have the data missing in other rows\n",
    "\n",
    "cleaner_data[cleaner_data['Trap'] == 'T913'].sort_values('Lat').sample(10) #.head() / .tail()"
   ]
  },
  {
   "cell_type": "code",
   "execution_count": 35,
   "id": "fd0d348f",
   "metadata": {},
   "outputs": [
    {
     "data": {
      "text/html": [
       "<div>\n",
       "<style scoped>\n",
       "    .dataframe tbody tr th:only-of-type {\n",
       "        vertical-align: middle;\n",
       "    }\n",
       "\n",
       "    .dataframe tbody tr th {\n",
       "        vertical-align: top;\n",
       "    }\n",
       "\n",
       "    .dataframe thead th {\n",
       "        text-align: right;\n",
       "    }\n",
       "</style>\n",
       "<table border=\"1\" class=\"dataframe\">\n",
       "  <thead>\n",
       "    <tr style=\"text-align: right;\">\n",
       "      <th></th>\n",
       "      <th>Address Block</th>\n",
       "      <th>Trap</th>\n",
       "      <th>Trap type</th>\n",
       "      <th>Date</th>\n",
       "      <th>Mosquito number</th>\n",
       "      <th>WNV Present</th>\n",
       "      <th>Species</th>\n",
       "      <th>Lat</th>\n",
       "      <th>Lon</th>\n",
       "    </tr>\n",
       "  </thead>\n",
       "  <tbody>\n",
       "    <tr>\n",
       "      <th>7594</th>\n",
       "      <td>100XX W OHARE AIRPORT</td>\n",
       "      <td>T921</td>\n",
       "      <td>CDC</td>\n",
       "      <td>2013-07-25 00:07:00</td>\n",
       "      <td>2</td>\n",
       "      <td>negative</td>\n",
       "      <td>CULEX RESTUANS</td>\n",
       "      <td>NaN</td>\n",
       "      <td>NaN</td>\n",
       "    </tr>\n",
       "    <tr>\n",
       "      <th>10536</th>\n",
       "      <td>100XX W OHARE AIRPORT</td>\n",
       "      <td>T921</td>\n",
       "      <td>CDC</td>\n",
       "      <td>2010-09-02 00:09:00</td>\n",
       "      <td>1</td>\n",
       "      <td>negative</td>\n",
       "      <td>CULEX TERRITANS</td>\n",
       "      <td>NaN</td>\n",
       "      <td>NaN</td>\n",
       "    </tr>\n",
       "    <tr>\n",
       "      <th>7686</th>\n",
       "      <td>100XX W OHARE AIRPORT</td>\n",
       "      <td>T921</td>\n",
       "      <td>CDC</td>\n",
       "      <td>2013-07-19 00:07:00</td>\n",
       "      <td>5</td>\n",
       "      <td>negative</td>\n",
       "      <td>CULEX RESTUANS</td>\n",
       "      <td>NaN</td>\n",
       "      <td>NaN</td>\n",
       "    </tr>\n",
       "    <tr>\n",
       "      <th>8101</th>\n",
       "      <td>100XX W OHARE AIRPORT</td>\n",
       "      <td>T921</td>\n",
       "      <td>CDC</td>\n",
       "      <td>2013-06-07 00:06:00</td>\n",
       "      <td>4</td>\n",
       "      <td>negative</td>\n",
       "      <td>CULEX RESTUANS</td>\n",
       "      <td>NaN</td>\n",
       "      <td>NaN</td>\n",
       "    </tr>\n",
       "    <tr>\n",
       "      <th>7873</th>\n",
       "      <td>100XX W OHARE AIRPORT</td>\n",
       "      <td>T921</td>\n",
       "      <td>CDC</td>\n",
       "      <td>2013-07-08 00:07:00</td>\n",
       "      <td>5</td>\n",
       "      <td>negative</td>\n",
       "      <td>CULEX RESTUANS</td>\n",
       "      <td>NaN</td>\n",
       "      <td>NaN</td>\n",
       "    </tr>\n",
       "    <tr>\n",
       "      <th>10725</th>\n",
       "      <td>100XX W OHARE AIRPORT</td>\n",
       "      <td>T921</td>\n",
       "      <td>CDC</td>\n",
       "      <td>2010-08-20 00:08:00</td>\n",
       "      <td>5</td>\n",
       "      <td>negative</td>\n",
       "      <td>CULEX PIPIENS</td>\n",
       "      <td>NaN</td>\n",
       "      <td>NaN</td>\n",
       "    </tr>\n",
       "    <tr>\n",
       "      <th>10641</th>\n",
       "      <td>100XX W OHARE AIRPORT</td>\n",
       "      <td>T921</td>\n",
       "      <td>CDC</td>\n",
       "      <td>2010-08-27 00:08:00</td>\n",
       "      <td>10</td>\n",
       "      <td>negative</td>\n",
       "      <td>CULEX RESTUANS</td>\n",
       "      <td>NaN</td>\n",
       "      <td>NaN</td>\n",
       "    </tr>\n",
       "    <tr>\n",
       "      <th>10440</th>\n",
       "      <td>100XX W OHARE AIRPORT</td>\n",
       "      <td>T921</td>\n",
       "      <td>CDC</td>\n",
       "      <td>2010-09-13 00:09:00</td>\n",
       "      <td>2</td>\n",
       "      <td>negative</td>\n",
       "      <td>CULEX PIPIENS</td>\n",
       "      <td>NaN</td>\n",
       "      <td>NaN</td>\n",
       "    </tr>\n",
       "  </tbody>\n",
       "</table>\n",
       "</div>"
      ],
      "text/plain": [
       "               Address Block  Trap Trap type                Date  \\\n",
       "7594   100XX W OHARE AIRPORT  T921       CDC 2013-07-25 00:07:00   \n",
       "10536  100XX W OHARE AIRPORT  T921       CDC 2010-09-02 00:09:00   \n",
       "7686   100XX W OHARE AIRPORT  T921       CDC 2013-07-19 00:07:00   \n",
       "8101   100XX W OHARE AIRPORT  T921       CDC 2013-06-07 00:06:00   \n",
       "7873   100XX W OHARE AIRPORT  T921       CDC 2013-07-08 00:07:00   \n",
       "10725  100XX W OHARE AIRPORT  T921       CDC 2010-08-20 00:08:00   \n",
       "10641  100XX W OHARE AIRPORT  T921       CDC 2010-08-27 00:08:00   \n",
       "10440  100XX W OHARE AIRPORT  T921       CDC 2010-09-13 00:09:00   \n",
       "\n",
       "       Mosquito number WNV Present          Species  Lat  Lon  \n",
       "7594                 2    negative   CULEX RESTUANS  NaN  NaN  \n",
       "10536                1    negative  CULEX TERRITANS  NaN  NaN  \n",
       "7686                 5    negative   CULEX RESTUANS  NaN  NaN  \n",
       "8101                 4    negative   CULEX RESTUANS  NaN  NaN  \n",
       "7873                 5    negative   CULEX RESTUANS  NaN  NaN  \n",
       "10725                5    negative    CULEX PIPIENS  NaN  NaN  \n",
       "10641               10    negative   CULEX RESTUANS  NaN  NaN  \n",
       "10440                2    negative    CULEX PIPIENS  NaN  NaN  "
      ]
     },
     "execution_count": 35,
     "metadata": {},
     "output_type": "execute_result"
    }
   ],
   "source": [
    "# See in the complete dataset if some aleatory traps could have the data missing about Lat and Lon\n",
    "cleaner_data[cleaner_data['Trap'] == 'T921'].sort_values('Lat').sample(8) #.head() / .tail()"
   ]
  },
  {
   "cell_type": "markdown",
   "id": "470530e0",
   "metadata": {},
   "source": [
    "**Annotation** It was not possible to infer the missing data. Next option is input the information as the locations with missing LAT and LON are known."
   ]
  },
  {
   "cell_type": "code",
   "execution_count": 19,
   "id": "9e8c65ad-a886-4bff-9fd0-80447fdb40b5",
   "metadata": {},
   "outputs": [
    {
     "data": {
      "text/plain": [
       "100XX W OHARE AIRPORT    2039\n",
       "4XX W 127TH               301\n",
       "100XX W OHARE             226\n",
       "79XX S CHICAGO            136\n",
       "81XX S ASHLAND            122\n",
       "115XX S AVENUE L           40\n",
       "65XX N OAK PARK AVE        24\n",
       "30XX S HOYNE               15\n",
       "98XX S AVENUE G            11\n",
       "43XX N ASHLAND             10\n",
       "Name: Address Block, dtype: int64"
      ]
     },
     "execution_count": 19,
     "metadata": {},
     "output_type": "execute_result"
    }
   ],
   "source": [
    "# Locations with NaN values\n",
    "cleaner_data['Address Block'][cleaner_data['Lat'].isna()].value_counts()"
   ]
  },
  {
   "cell_type": "code",
   "execution_count": 22,
   "id": "7690edea-f469-4faf-9f25-4c6e829b6da3",
   "metadata": {},
   "outputs": [],
   "source": [
    "# Inputing missing data\n",
    "cleaner_data.loc[cleaner_data[\"Address Block\"] == \"100XX W OHARE AIRPORT\", [\"Lat\", \"Lon\"]] = [41.97934, -87.90892]\n",
    "cleaner_data.loc[cleaner_data[\"Address Block\"] == \"4XX W 127TH\", [\"Lat\", \"Lon\"]] = [41.66329, -87.63203]\n",
    "cleaner_data.loc[cleaner_data[\"Address Block\"] == \"100XX W OHARE\", [\"Lat\", \"Lon\"]] = [41.97765, -87.88092]\n",
    "cleaner_data.loc[cleaner_data[\"Address Block\"] == \"79XX S CHICAGO\", [\"Lat\", \"Lon\"]] = [41.75440, -87.59081]\n",
    "cleaner_data.loc[cleaner_data[\"Address Block\"] == \"81XX S ASHLAND\", [\"Lat\", \"Lon\"]] = [41.74672, -87.66366]\n",
    "cleaner_data.loc[cleaner_data[\"Address Block\"] == \"115XX S AVENUE L\", [\"Lat\", \"Lon\"]] = [41.68634, -87.53644]\n",
    "cleaner_data.loc[cleaner_data[\"Address Block\"] == \"65XX N OAK PARK AVE\", [\"Lat\", \"Lon\"]] = [41.99911, -87.79553]\n",
    "cleaner_data.loc[cleaner_data[\"Address Block\"] == \"30XX S HOYNE\", [\"Lat\", \"Lon\"]] = [41.83665, -87.67775]\n",
    "cleaner_data.loc[cleaner_data[\"Address Block\"] == \"98XX S AVENUE G\", [\"Lat\", \"Lon\"]] = [41.71784, -87.53160]\n",
    "cleaner_data.loc[cleaner_data[\"Address Block\"] == \"43XX N ASHLAND\", [\"Lat\", \"Lon\"]] = [41.96001, -87.66941]"
   ]
  },
  {
   "cell_type": "code",
   "execution_count": 23,
   "id": "c5943dcb",
   "metadata": {},
   "outputs": [
    {
     "data": {
      "text/plain": [
       "Year               0\n",
       "Week               0\n",
       "Address Block      0\n",
       "Trap               0\n",
       "Trap type          0\n",
       "Mosquito number    0\n",
       "WNV Present        0\n",
       "Species            0\n",
       "Lat                0\n",
       "Lon                0\n",
       "dtype: int64"
      ]
     },
     "execution_count": 23,
     "metadata": {},
     "output_type": "execute_result"
    }
   ],
   "source": [
    "#Sanity check\n",
    "cleaner_data.isna().sum(axis=0)"
   ]
  },
  {
   "cell_type": "markdown",
   "id": "87318a89",
   "metadata": {},
   "source": [
    "Missing values were fixed."
   ]
  },
  {
   "cell_type": "code",
   "execution_count": 24,
   "id": "3429760f",
   "metadata": {},
   "outputs": [
    {
     "data": {
      "text/html": [
       "<div>\n",
       "<style scoped>\n",
       "    .dataframe tbody tr th:only-of-type {\n",
       "        vertical-align: middle;\n",
       "    }\n",
       "\n",
       "    .dataframe tbody tr th {\n",
       "        vertical-align: top;\n",
       "    }\n",
       "\n",
       "    .dataframe thead th {\n",
       "        text-align: right;\n",
       "    }\n",
       "</style>\n",
       "<table border=\"1\" class=\"dataframe\">\n",
       "  <thead>\n",
       "    <tr style=\"text-align: right;\">\n",
       "      <th></th>\n",
       "      <th>Year</th>\n",
       "      <th>Week</th>\n",
       "      <th>Address Block</th>\n",
       "      <th>Trap</th>\n",
       "      <th>Trap type</th>\n",
       "      <th>Mosquito number</th>\n",
       "      <th>WNV Present</th>\n",
       "      <th>Species</th>\n",
       "      <th>Lat</th>\n",
       "      <th>Lon</th>\n",
       "    </tr>\n",
       "  </thead>\n",
       "  <tbody>\n",
       "    <tr>\n",
       "      <th>0</th>\n",
       "      <td>2019</td>\n",
       "      <td>39</td>\n",
       "      <td>100XX W OHARE AIRPORT</td>\n",
       "      <td>T910</td>\n",
       "      <td>GRAVID</td>\n",
       "      <td>2</td>\n",
       "      <td>negative</td>\n",
       "      <td>CULEX RESTUANS</td>\n",
       "      <td>41.979340</td>\n",
       "      <td>-87.908920</td>\n",
       "    </tr>\n",
       "    <tr>\n",
       "      <th>1</th>\n",
       "      <td>2019</td>\n",
       "      <td>39</td>\n",
       "      <td>52XX S KOLMAR AVE</td>\n",
       "      <td>T114</td>\n",
       "      <td>GRAVID</td>\n",
       "      <td>1</td>\n",
       "      <td>negative</td>\n",
       "      <td>CULEX RESTUANS</td>\n",
       "      <td>41.798211</td>\n",
       "      <td>-87.736925</td>\n",
       "    </tr>\n",
       "    <tr>\n",
       "      <th>2</th>\n",
       "      <td>2019</td>\n",
       "      <td>39</td>\n",
       "      <td>58XX N WESTERN AVE</td>\n",
       "      <td>T028</td>\n",
       "      <td>GRAVID</td>\n",
       "      <td>2</td>\n",
       "      <td>negative</td>\n",
       "      <td>CULEX RESTUANS</td>\n",
       "      <td>41.987245</td>\n",
       "      <td>-87.689417</td>\n",
       "    </tr>\n",
       "    <tr>\n",
       "      <th>3</th>\n",
       "      <td>2019</td>\n",
       "      <td>39</td>\n",
       "      <td>39XX N SPRINGFIELD AVE</td>\n",
       "      <td>T228</td>\n",
       "      <td>GRAVID</td>\n",
       "      <td>1</td>\n",
       "      <td>negative</td>\n",
       "      <td>CULEX RESTUANS</td>\n",
       "      <td>41.953664</td>\n",
       "      <td>-87.724987</td>\n",
       "    </tr>\n",
       "    <tr>\n",
       "      <th>4</th>\n",
       "      <td>2019</td>\n",
       "      <td>39</td>\n",
       "      <td>131XX S BRANDON AVE</td>\n",
       "      <td>T209</td>\n",
       "      <td>GRAVID</td>\n",
       "      <td>9</td>\n",
       "      <td>negative</td>\n",
       "      <td>CULEX RESTUANS</td>\n",
       "      <td>41.657069</td>\n",
       "      <td>-87.546049</td>\n",
       "    </tr>\n",
       "  </tbody>\n",
       "</table>\n",
       "</div>"
      ],
      "text/plain": [
       "   Year  Week           Address Block  Trap Trap type  Mosquito number  \\\n",
       "0  2019    39   100XX W OHARE AIRPORT  T910    GRAVID                2   \n",
       "1  2019    39       52XX S KOLMAR AVE  T114    GRAVID                1   \n",
       "2  2019    39      58XX N WESTERN AVE  T028    GRAVID                2   \n",
       "3  2019    39  39XX N SPRINGFIELD AVE  T228    GRAVID                1   \n",
       "4  2019    39     131XX S BRANDON AVE  T209    GRAVID                9   \n",
       "\n",
       "  WNV Present         Species        Lat        Lon  \n",
       "0    negative  CULEX RESTUANS  41.979340 -87.908920  \n",
       "1    negative  CULEX RESTUANS  41.798211 -87.736925  \n",
       "2    negative  CULEX RESTUANS  41.987245 -87.689417  \n",
       "3    negative  CULEX RESTUANS  41.953664 -87.724987  \n",
       "4    negative  CULEX RESTUANS  41.657069 -87.546049  "
      ]
     },
     "execution_count": 24,
     "metadata": {},
     "output_type": "execute_result"
    }
   ],
   "source": [
    "# Create a new dataframe with the data clean and ready to analysis.\n",
    "\n",
    "cleaned_data = cleaner_data\n",
    "\n",
    "cleaned_data.head()"
   ]
  },
  {
   "cell_type": "markdown",
   "id": "269126a5",
   "metadata": {},
   "source": [
    "**Summary: Now the cleaned_data dataframe contains the data ready to the next steps. \n",
    "Redundant columns were eliminated and NaN values were fixed.**"
   ]
  },
  {
   "cell_type": "markdown",
   "id": "764bce7f",
   "metadata": {},
   "source": [
    "## 3. Basic exploratory data analysis <a class=\"anchor\" id=\"3\"></a>"
   ]
  },
  {
   "cell_type": "markdown",
   "id": "07845e4f",
   "metadata": {},
   "source": [
    "### Relationship between mosquito number and year"
   ]
  },
  {
   "cell_type": "code",
   "execution_count": 41,
   "id": "13a250a4-b68a-4001-802d-f177f3c3e573",
   "metadata": {},
   "outputs": [
    {
     "data": {
      "text/plain": [
       "Text(0.5, 1.0, 'Mosquito numbers aggregated by year')"
      ]
     },
     "execution_count": 41,
     "metadata": {},
     "output_type": "execute_result"
    },
    {
     "data": {
      "image/png": "[encoded data removed]",
      "text/plain": [
       "<Figure size 1000x400 with 1 Axes>"
      ]
     },
     "metadata": {},
     "output_type": "display_data"
    }
   ],
   "source": [
    "# Visualization to explore the relation between Mosquito number and Year\n",
    "\n",
    "plt.figure(figsize=(10,4))\n",
    "cleaned_data.groupby(cleaned_data['Year'])['Mosquito number'].agg('sum').plot.bar()\n",
    "plt.ylabel('Mosquito number', size='10')\n",
    "plt.xlabel('Year', size='10')\n",
    "plt.title('Mosquito numbers aggregated by year', size='10')\n"
   ]
  },
  {
   "cell_type": "markdown",
   "id": "a264a722",
   "metadata": {},
   "source": [
    "It is observed that the number of mosquitos varied over the years. What could generate this variations? This requires further investigation."
   ]
  },
  {
   "cell_type": "markdown",
   "id": "47f49903",
   "metadata": {},
   "source": [
    "## 4. Advanced exploratory data analysis <a class=\"anchor\" id=\"4\"></a>"
   ]
  },
  {
   "cell_type": "markdown",
   "id": "ea255ae8",
   "metadata": {
    "tags": []
   },
   "source": [
    "### Relationship between mosquito species and WNV prevalence."
   ]
  },
  {
   "cell_type": "code",
   "execution_count": 55,
   "id": "d4734c2f-72de-4145-8b0d-7e25a4f11850",
   "metadata": {},
   "outputs": [],
   "source": [
    "# Mapping positive cases as 1 and negative cases as 0.\n",
    "cleaned_data['WNV Prevalence'] = cleaned_data['WNV Present'].replace({'positive': 1, 'negative': 0})"
   ]
  },
  {
   "cell_type": "code",
   "execution_count": 59,
   "id": "a60be5d0-c43c-4e54-80be-518bc628b2c3",
   "metadata": {},
   "outputs": [
    {
     "data": {
      "text/html": [
       "<div>\n",
       "<style scoped>\n",
       "    .dataframe tbody tr th:only-of-type {\n",
       "        vertical-align: middle;\n",
       "    }\n",
       "\n",
       "    .dataframe tbody tr th {\n",
       "        vertical-align: top;\n",
       "    }\n",
       "\n",
       "    .dataframe thead th {\n",
       "        text-align: right;\n",
       "    }\n",
       "</style>\n",
       "<table border=\"1\" class=\"dataframe\">\n",
       "  <thead>\n",
       "    <tr style=\"text-align: right;\">\n",
       "      <th></th>\n",
       "      <th>Species</th>\n",
       "      <th>WNV Prevalence</th>\n",
       "    </tr>\n",
       "  </thead>\n",
       "  <tbody>\n",
       "    <tr>\n",
       "      <th>0</th>\n",
       "      <td>CULEX RESTUANS</td>\n",
       "      <td>0</td>\n",
       "    </tr>\n",
       "    <tr>\n",
       "      <th>1</th>\n",
       "      <td>CULEX RESTUANS</td>\n",
       "      <td>0</td>\n",
       "    </tr>\n",
       "    <tr>\n",
       "      <th>2</th>\n",
       "      <td>CULEX RESTUANS</td>\n",
       "      <td>0</td>\n",
       "    </tr>\n",
       "    <tr>\n",
       "      <th>3</th>\n",
       "      <td>CULEX RESTUANS</td>\n",
       "      <td>0</td>\n",
       "    </tr>\n",
       "    <tr>\n",
       "      <th>4</th>\n",
       "      <td>CULEX RESTUANS</td>\n",
       "      <td>0</td>\n",
       "    </tr>\n",
       "    <tr>\n",
       "      <th>...</th>\n",
       "      <td>...</td>\n",
       "      <td>...</td>\n",
       "    </tr>\n",
       "    <tr>\n",
       "      <th>18490</th>\n",
       "      <td>CULEX PIPIENS</td>\n",
       "      <td>1</td>\n",
       "    </tr>\n",
       "    <tr>\n",
       "      <th>18491</th>\n",
       "      <td>CULEX PIPIENS</td>\n",
       "      <td>1</td>\n",
       "    </tr>\n",
       "    <tr>\n",
       "      <th>18492</th>\n",
       "      <td>CULEX RESTUANS</td>\n",
       "      <td>1</td>\n",
       "    </tr>\n",
       "    <tr>\n",
       "      <th>18493</th>\n",
       "      <td>CULEX RESTUANS</td>\n",
       "      <td>1</td>\n",
       "    </tr>\n",
       "    <tr>\n",
       "      <th>18494</th>\n",
       "      <td>CULEX RESTUANS</td>\n",
       "      <td>1</td>\n",
       "    </tr>\n",
       "  </tbody>\n",
       "</table>\n",
       "<p>18495 rows × 2 columns</p>\n",
       "</div>"
      ],
      "text/plain": [
       "              Species  WNV Prevalence\n",
       "0      CULEX RESTUANS               0\n",
       "1      CULEX RESTUANS               0\n",
       "2      CULEX RESTUANS               0\n",
       "3      CULEX RESTUANS               0\n",
       "4      CULEX RESTUANS               0\n",
       "...               ...             ...\n",
       "18490   CULEX PIPIENS               1\n",
       "18491   CULEX PIPIENS               1\n",
       "18492  CULEX RESTUANS               1\n",
       "18493  CULEX RESTUANS               1\n",
       "18494  CULEX RESTUANS               1\n",
       "\n",
       "[18495 rows x 2 columns]"
      ]
     },
     "execution_count": 59,
     "metadata": {},
     "output_type": "execute_result"
    }
   ],
   "source": [
    "# Check\n",
    "cleaned_data[['Species', 'WNV Prevalence']]"
   ]
  },
  {
   "cell_type": "code",
   "execution_count": 62,
   "id": "b3442fb5-9f6d-4cd1-ac0d-c001d1b0b8d6",
   "metadata": {},
   "outputs": [
    {
     "data": {
      "text/html": [
       "<div>\n",
       "<style scoped>\n",
       "    .dataframe tbody tr th:only-of-type {\n",
       "        vertical-align: middle;\n",
       "    }\n",
       "\n",
       "    .dataframe tbody tr th {\n",
       "        vertical-align: top;\n",
       "    }\n",
       "\n",
       "    .dataframe thead th {\n",
       "        text-align: right;\n",
       "    }\n",
       "</style>\n",
       "<table border=\"1\" class=\"dataframe\">\n",
       "  <thead>\n",
       "    <tr style=\"text-align: right;\">\n",
       "      <th></th>\n",
       "      <th>Species</th>\n",
       "      <th>WNV Present</th>\n",
       "      <th>Count</th>\n",
       "    </tr>\n",
       "  </thead>\n",
       "  <tbody>\n",
       "    <tr>\n",
       "      <th>0</th>\n",
       "      <td>CULEX PIPIENS</td>\n",
       "      <td>negative</td>\n",
       "      <td>4074</td>\n",
       "    </tr>\n",
       "    <tr>\n",
       "      <th>1</th>\n",
       "      <td>CULEX PIPIENS</td>\n",
       "      <td>positive</td>\n",
       "      <td>1412</td>\n",
       "    </tr>\n",
       "    <tr>\n",
       "      <th>2</th>\n",
       "      <td>CULEX RESTUANS</td>\n",
       "      <td>negative</td>\n",
       "      <td>9309</td>\n",
       "    </tr>\n",
       "    <tr>\n",
       "      <th>3</th>\n",
       "      <td>CULEX RESTUANS</td>\n",
       "      <td>positive</td>\n",
       "      <td>2557</td>\n",
       "    </tr>\n",
       "    <tr>\n",
       "      <th>4</th>\n",
       "      <td>CULEX SALINARIUS</td>\n",
       "      <td>negative</td>\n",
       "      <td>215</td>\n",
       "    </tr>\n",
       "    <tr>\n",
       "      <th>5</th>\n",
       "      <td>CULEX SALINARIUS</td>\n",
       "      <td>positive</td>\n",
       "      <td>11</td>\n",
       "    </tr>\n",
       "    <tr>\n",
       "      <th>6</th>\n",
       "      <td>CULEX TERRITANS</td>\n",
       "      <td>negative</td>\n",
       "      <td>903</td>\n",
       "    </tr>\n",
       "    <tr>\n",
       "      <th>7</th>\n",
       "      <td>CULEX TERRITANS</td>\n",
       "      <td>positive</td>\n",
       "      <td>14</td>\n",
       "    </tr>\n",
       "  </tbody>\n",
       "</table>\n",
       "</div>"
      ],
      "text/plain": [
       "            Species WNV Present  Count\n",
       "0     CULEX PIPIENS    negative   4074\n",
       "1     CULEX PIPIENS    positive   1412\n",
       "2    CULEX RESTUANS    negative   9309\n",
       "3    CULEX RESTUANS    positive   2557\n",
       "4  CULEX SALINARIUS    negative    215\n",
       "5  CULEX SALINARIUS    positive     11\n",
       "6   CULEX TERRITANS    negative    903\n",
       "7   CULEX TERRITANS    positive     14"
      ]
     },
     "execution_count": 62,
     "metadata": {},
     "output_type": "execute_result"
    }
   ],
   "source": [
    "# Create a new dataframe with the specie and total of positive and negative WNV cases\n",
    "virusperspecie = cleaned_data.groupby(cleaned_data['Species'])['WNV Present'].value_counts()\n",
    "virusperspecie = pd.DataFrame(virusperspecie)\n",
    "virusperspecie.columns = ['Count']           \n",
    "virusperspecie = virusperspecie.reset_index()\n",
    "virusperspecie"
   ]
  },
  {
   "cell_type": "code",
   "execution_count": 63,
   "id": "04ed6bae-c1d9-41aa-b154-46052915be67",
   "metadata": {},
   "outputs": [
    {
     "data": {
      "text/html": [
       "<div>\n",
       "<style scoped>\n",
       "    .dataframe tbody tr th:only-of-type {\n",
       "        vertical-align: middle;\n",
       "    }\n",
       "\n",
       "    .dataframe tbody tr th {\n",
       "        vertical-align: top;\n",
       "    }\n",
       "\n",
       "    .dataframe thead th {\n",
       "        text-align: right;\n",
       "    }\n",
       "</style>\n",
       "<table border=\"1\" class=\"dataframe\">\n",
       "  <thead>\n",
       "    <tr style=\"text-align: right;\">\n",
       "      <th>WNV Present</th>\n",
       "      <th>Species</th>\n",
       "      <th>negative</th>\n",
       "      <th>positive</th>\n",
       "    </tr>\n",
       "  </thead>\n",
       "  <tbody>\n",
       "    <tr>\n",
       "      <th>0</th>\n",
       "      <td>CULEX PIPIENS</td>\n",
       "      <td>4074</td>\n",
       "      <td>1412</td>\n",
       "    </tr>\n",
       "    <tr>\n",
       "      <th>1</th>\n",
       "      <td>CULEX RESTUANS</td>\n",
       "      <td>9309</td>\n",
       "      <td>2557</td>\n",
       "    </tr>\n",
       "    <tr>\n",
       "      <th>2</th>\n",
       "      <td>CULEX SALINARIUS</td>\n",
       "      <td>215</td>\n",
       "      <td>11</td>\n",
       "    </tr>\n",
       "    <tr>\n",
       "      <th>3</th>\n",
       "      <td>CULEX TERRITANS</td>\n",
       "      <td>903</td>\n",
       "      <td>14</td>\n",
       "    </tr>\n",
       "  </tbody>\n",
       "</table>\n",
       "</div>"
      ],
      "text/plain": [
       "WNV Present           Species  negative  positive\n",
       "0               CULEX PIPIENS      4074      1412\n",
       "1              CULEX RESTUANS      9309      2557\n",
       "2            CULEX SALINARIUS       215        11\n",
       "3             CULEX TERRITANS       903        14"
      ]
     },
     "execution_count": 63,
     "metadata": {},
     "output_type": "execute_result"
    }
   ],
   "source": [
    "# Pivot to get the number by specie\n",
    "virusperspecie = virusperspecie.pivot(index='Species', columns='WNV Present', values='Count').reset_index()\n",
    "virusperspecie"
   ]
  },
  {
   "cell_type": "code",
   "execution_count": 66,
   "id": "b0de3a4a-5bc6-4104-ae3d-f0246e91b531",
   "metadata": {},
   "outputs": [
    {
     "data": {
      "text/html": [
       "<div>\n",
       "<style scoped>\n",
       "    .dataframe tbody tr th:only-of-type {\n",
       "        vertical-align: middle;\n",
       "    }\n",
       "\n",
       "    .dataframe tbody tr th {\n",
       "        vertical-align: top;\n",
       "    }\n",
       "\n",
       "    .dataframe thead th {\n",
       "        text-align: right;\n",
       "    }\n",
       "</style>\n",
       "<table border=\"1\" class=\"dataframe\">\n",
       "  <thead>\n",
       "    <tr style=\"text-align: right;\">\n",
       "      <th>WNV Present</th>\n",
       "      <th>Species</th>\n",
       "      <th>negative</th>\n",
       "      <th>positive</th>\n",
       "      <th>pct_positive</th>\n",
       "      <th>%_pos</th>\n",
       "    </tr>\n",
       "  </thead>\n",
       "  <tbody>\n",
       "    <tr>\n",
       "      <th>3</th>\n",
       "      <td>CULEX TERRITANS</td>\n",
       "      <td>903</td>\n",
       "      <td>14</td>\n",
       "      <td>1.526718</td>\n",
       "      <td>1.526718</td>\n",
       "    </tr>\n",
       "    <tr>\n",
       "      <th>2</th>\n",
       "      <td>CULEX SALINARIUS</td>\n",
       "      <td>215</td>\n",
       "      <td>11</td>\n",
       "      <td>4.867257</td>\n",
       "      <td>4.867257</td>\n",
       "    </tr>\n",
       "    <tr>\n",
       "      <th>1</th>\n",
       "      <td>CULEX RESTUANS</td>\n",
       "      <td>9309</td>\n",
       "      <td>2557</td>\n",
       "      <td>21.548963</td>\n",
       "      <td>21.548963</td>\n",
       "    </tr>\n",
       "    <tr>\n",
       "      <th>0</th>\n",
       "      <td>CULEX PIPIENS</td>\n",
       "      <td>4074</td>\n",
       "      <td>1412</td>\n",
       "      <td>25.738243</td>\n",
       "      <td>25.738243</td>\n",
       "    </tr>\n",
       "  </tbody>\n",
       "</table>\n",
       "</div>"
      ],
      "text/plain": [
       "WNV Present           Species  negative  positive  pct_positive      %_pos\n",
       "3             CULEX TERRITANS       903        14      1.526718   1.526718\n",
       "2            CULEX SALINARIUS       215        11      4.867257   4.867257\n",
       "1              CULEX RESTUANS      9309      2557     21.548963  21.548963\n",
       "0               CULEX PIPIENS      4074      1412     25.738243  25.738243"
      ]
     },
     "execution_count": 66,
     "metadata": {},
     "output_type": "execute_result"
    }
   ],
   "source": [
    "#Now calculate the prevalence\n",
    "\n",
    "neg_species = virusperspecie['negative']\n",
    "pos_species = virusperspecie['positive']\n",
    "virusperspecie['%_pos'] = pos_species/(neg_species+pos_species)*100\n",
    "\n",
    "virusperspecie.sort_values(by='%_pos', ascending = True, inplace = True)\n",
    "virusperspecie\n"
   ]
  },
  {
   "cell_type": "code",
   "execution_count": 77,
   "id": "3ad20c82",
   "metadata": {},
   "outputs": [
    {
     "data": {
      "image/png": "[encoded data removed]",
      "text/plain": [
       "<Figure size 800x300 with 1 Axes>"
      ]
     },
     "metadata": {},
     "output_type": "display_data"
    }
   ],
   "source": [
    "# Using an appropriate visual, explore the relationship between mosquito species and WNV prevalence.\n",
    "\n",
    "plt.figure(figsize=(8,3))\n",
    "plt.bar(virusperspecie['Species'], virusperspecie['%_pos']);     # horizontal orientation easier to read\n",
    "plt.xlabel('Species', size = 10)\n",
    "plt.ylabel('Percentage of WNV positive traps', size = 10)\n",
    "plt.title('Prevalence of WNV by species', size = 10)\n",
    "plt.show()"
   ]
  },
  {
   "cell_type": "markdown",
   "id": "b81ec8c9",
   "metadata": {},
   "source": [
    "**Annotation:** Exploring the relationship between mosquito species and WNV prevalence, the first notorious finding is that Restuans and Pipiens have similar behavior respecting the prevalence of the virus in these species, so the probability to find mosquitoes positive to WNV is higher in these species (around 5 times the probability of finding the virus in other species)."
   ]
  },
  {
   "cell_type": "markdown",
   "id": "435b9f82",
   "metadata": {},
   "source": [
    "### Relationship between the number of mosquitos caught and trap type"
   ]
  },
  {
   "cell_type": "code",
   "execution_count": 82,
   "id": "1f6e5983-b903-494f-a126-60ab6b725625",
   "metadata": {},
   "outputs": [
    {
     "data": {
      "image/png": "[encoded data removed]",
      "text/plain": [
       "<Figure size 800x500 with 1 Axes>"
      ]
     },
     "metadata": {},
     "output_type": "display_data"
    }
   ],
   "source": [
    "# Explore the relationship between the number of mosquitos caught and trap type\n",
    "\n",
    "plt.figure(figsize=(8, 5))\n",
    "sns.boxplot(x=\"Trap type\", y=\"Mosquito number\", data=cleaned_data)\n",
    "plt.xlabel(\"Trap Type\", fontsize=10)\n",
    "plt.ylabel(\"Number of Mosquitos Caught\", fontsize=10)\n",
    "plt.title(\"Distribution of the Number of\\nMosquitos Caught Based on Trap Type\", fontsize=10)\n",
    "plt.show()"
   ]
  },
  {
   "cell_type": "markdown",
   "id": "25136b1f",
   "metadata": {},
   "source": [
    "**Annotation:** The 'Sentinel' trap is most effective in capturing mosquitoes, followed by 'CDC' and 'Gravid'. However, caution is advised regarding the 'Gravid' trap due to numerous outliers. It was known that OVI was not relevant as this traps didn't capture mosquitos."
   ]
  },
  {
   "cell_type": "markdown",
   "id": "16a58e20",
   "metadata": {},
   "source": [
    "### Relationship between the number of mosquitos number per specie over the time"
   ]
  },
  {
   "cell_type": "code",
   "execution_count": 94,
   "id": "c7d33a62",
   "metadata": {},
   "outputs": [
    {
     "data": {
      "text/plain": [
       "<Figure size 2000x2000 with 0 Axes>"
      ]
     },
     "metadata": {},
     "output_type": "display_data"
    },
    {
     "data": {
      "image/png": "[encoded data removed]",
      "text/plain": [
       "<Figure size 683.25x500 with 1 Axes>"
      ]
     },
     "metadata": {},
     "output_type": "display_data"
    }
   ],
   "source": [
    "# Additional visualization: Relationship between the number of mosquitos number per specie over the time\n",
    "\n",
    "data=pd.read_csv('mosquito_data.csv')\n",
    "data['Date'] = pd.to_datetime(raw_data['Date'])\n",
    "\n",
    "plt.figure(figsize=(20, 20))\n",
    "sns.displot(data, x=\"Date\", hue=\"Species\", kind=\"kde\", fill=True)\n",
    "plt.title('Mosquito number by Species along the time', size=10)\n",
    "plt.show()"
   ]
  },
  {
   "cell_type": "markdown",
   "id": "41d9fc39",
   "metadata": {},
   "source": [
    "**Annotation:** As was said before, the most common specie is Culex restuans: 65% of the mosquitos included in the data, followed by Culex pipiens: 30%. The last visualization evidence that Culex restuans has a higher population over the years. Culex Pipiens show the number of mosquitos that were caught was particularly higher in 2008 and 2014,but after 2014 the population started to decrease. Territians and Salinarus species showed a similarly low number of mosquitos over all the years."
   ]
  },
  {
   "cell_type": "markdown",
   "id": "d413cf7c",
   "metadata": {},
   "source": [
    "## 5. Insights <a class=\"anchor\" id=\"5\"></a>"
   ]
  },
  {
   "cell_type": "markdown",
   "id": "dbaf2882-414b-4802-b20a-81bd8e0fadae",
   "metadata": {},
   "source": [
    "The dataset contains mosquito tracking data from 2008 to 2019, in total 18495 records were analyzed. The data came from 190 traps located around Chicago city. The traps were described by 4 categories, but 95% of them were GRAVID-type traps. Regarding the mosquitos that were interested in the epidemiological study the data described 4 species: Restuans, Pipiens, Territans and Salinarus, the predominant population was the Restuans species, found in 65% of the records. Finally, 20% of the records test positive for the West Nile Virus (WNV)."
   ]
  },
  {
   "cell_type": "markdown",
   "id": "add0ec0a-e4bf-4f67-88c4-a3cb076f282d",
   "metadata": {},
   "source": [
    "It was observed during all the years there were caught mosquitos, but the visualizations showed an increase in the number of mosquitoes during the years 2008, 2014 and 2016. The peaks described match with peaks in the number of Restuans and Pipiens species in some of those years. While Territians and Salinarus species showed a similarly low number of mosquitos over all the years.   "
   ]
  },
  {
   "cell_type": "markdown",
   "id": "add91694-1c87-41a9-9f32-24ef1cd5add5",
   "metadata": {},
   "source": [
    "The relationship between mosquito species and WNV prevalence evidenced that Restuans and Pipiens species have similar behavior respecting the prevalence of the virus, so the probability to find mosquitoes positive for WNV is higher in those species. While the species territans and salinarius looked like they are less likely to be positive for the virus."
   ]
  },
  {
   "cell_type": "markdown",
   "id": "b2768969",
   "metadata": {},
   "source": [
    "**END**"
   ]
  }
 ],
 "metadata": {
  "kernelspec": {
   "display_name": "Python 3 (ipykernel)",
   "language": "python",
   "name": "python3"
  },
  "language_info": {
   "codemirror_mode": {
    "name": "ipython",
    "version": 3
   },
   "file_extension": ".py",
   "mimetype": "text/x-python",
   "name": "python",
   "nbconvert_exporter": "python",
   "pygments_lexer": "ipython3",
   "version": "3.9.13"
  }
 },
 "nbformat": 4,
 "nbformat_minor": 5
}
